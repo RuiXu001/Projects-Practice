{
 "cells": [
  {
   "cell_type": "code",
   "execution_count": 2,
   "metadata": {},
   "outputs": [],
   "source": [
    "import pandas as pd\n",
    "import numpy as np\n",
    "import re\n",
    "import matplotlib.pyplot as plt\n",
    "from wordcloud import WordCloud\n",
    "import nltk"
   ]
  },
  {
   "cell_type": "code",
   "execution_count": 3,
   "metadata": {},
   "outputs": [
    {
     "data": {
      "text/html": [
       "<div>\n",
       "<style scoped>\n",
       "    .dataframe tbody tr th:only-of-type {\n",
       "        vertical-align: middle;\n",
       "    }\n",
       "\n",
       "    .dataframe tbody tr th {\n",
       "        vertical-align: top;\n",
       "    }\n",
       "\n",
       "    .dataframe thead th {\n",
       "        text-align: right;\n",
       "    }\n",
       "</style>\n",
       "<table border=\"1\" class=\"dataframe\">\n",
       "  <thead>\n",
       "    <tr style=\"text-align: right;\">\n",
       "      <th></th>\n",
       "      <th>Unnamed: 0</th>\n",
       "      <th>index</th>\n",
       "      <th>Job Title</th>\n",
       "      <th>Salary Estimate</th>\n",
       "      <th>Job Description</th>\n",
       "      <th>Rating</th>\n",
       "      <th>Company Name</th>\n",
       "      <th>Location</th>\n",
       "      <th>Headquarters</th>\n",
       "      <th>Size</th>\n",
       "      <th>Founded</th>\n",
       "      <th>Type of ownership</th>\n",
       "      <th>Industry</th>\n",
       "      <th>Sector</th>\n",
       "      <th>Revenue</th>\n",
       "      <th>Competitors</th>\n",
       "      <th>Easy Apply</th>\n",
       "      <th>category</th>\n",
       "    </tr>\n",
       "  </thead>\n",
       "  <tbody>\n",
       "    <tr>\n",
       "      <th>0</th>\n",
       "      <td>0</td>\n",
       "      <td>0</td>\n",
       "      <td>Business Analyst - Clinical &amp; Logistics Platform</td>\n",
       "      <td>$56K-$102K (Glassdoor est.)</td>\n",
       "      <td>Company Overview\\n\\n\\nAt Memorial Sloan Ketter...</td>\n",
       "      <td>3.9</td>\n",
       "      <td>Memorial Sloan-Kettering\\n3.9</td>\n",
       "      <td>New York, NY</td>\n",
       "      <td>New York, NY</td>\n",
       "      <td>10000+ employees</td>\n",
       "      <td>1884</td>\n",
       "      <td>Nonprofit Organization</td>\n",
       "      <td>Health Care Services &amp; Hospitals</td>\n",
       "      <td>Health Care</td>\n",
       "      <td>$2 to $5 billion (USD)</td>\n",
       "      <td>Mayo Clinic, The Johns Hopkins Hospital, MD An...</td>\n",
       "      <td>-1</td>\n",
       "      <td>ba</td>\n",
       "    </tr>\n",
       "    <tr>\n",
       "      <th>1</th>\n",
       "      <td>1</td>\n",
       "      <td>1</td>\n",
       "      <td>Business Analyst</td>\n",
       "      <td>$56K-$102K (Glassdoor est.)</td>\n",
       "      <td>We are seeking for an energetic and collaborat...</td>\n",
       "      <td>3.8</td>\n",
       "      <td>Paine Schwartz Partners\\n3.8</td>\n",
       "      <td>New York, NY</td>\n",
       "      <td>New York, NY</td>\n",
       "      <td>1 to 50 employees</td>\n",
       "      <td>-1</td>\n",
       "      <td>Company - Private</td>\n",
       "      <td>Venture Capital &amp; Private Equity</td>\n",
       "      <td>Finance</td>\n",
       "      <td>Unknown / Non-Applicable</td>\n",
       "      <td>-1</td>\n",
       "      <td>True</td>\n",
       "      <td>ba</td>\n",
       "    </tr>\n",
       "    <tr>\n",
       "      <th>2</th>\n",
       "      <td>2</td>\n",
       "      <td>2</td>\n",
       "      <td>Data Analyst</td>\n",
       "      <td>$56K-$102K (Glassdoor est.)</td>\n",
       "      <td>For more than a decade, Asembia has been worki...</td>\n",
       "      <td>3.6</td>\n",
       "      <td>Asembia\\n3.6</td>\n",
       "      <td>Florham Park, NJ</td>\n",
       "      <td>Florham Park, NJ</td>\n",
       "      <td>501 to 1000 employees</td>\n",
       "      <td>2004</td>\n",
       "      <td>Company - Private</td>\n",
       "      <td>Biotech &amp; Pharmaceuticals</td>\n",
       "      <td>Biotech &amp; Pharmaceuticals</td>\n",
       "      <td>$5 to $10 million (USD)</td>\n",
       "      <td>-1</td>\n",
       "      <td>-1</td>\n",
       "      <td>ba</td>\n",
       "    </tr>\n",
       "    <tr>\n",
       "      <th>3</th>\n",
       "      <td>3</td>\n",
       "      <td>3</td>\n",
       "      <td>Information Security Analyst, Incident Response</td>\n",
       "      <td>$56K-$102K (Glassdoor est.)</td>\n",
       "      <td>Job Description Summary\\nThe Information Secur...</td>\n",
       "      <td>3.6</td>\n",
       "      <td>BD\\n3.6</td>\n",
       "      <td>Franklin Lakes, NJ</td>\n",
       "      <td>Franklin Lakes, NJ</td>\n",
       "      <td>10000+ employees</td>\n",
       "      <td>1897</td>\n",
       "      <td>Company - Public</td>\n",
       "      <td>Health Care Products Manufacturing</td>\n",
       "      <td>Manufacturing</td>\n",
       "      <td>$10+ billion (USD)</td>\n",
       "      <td>Abbott, Siemens, Baxter</td>\n",
       "      <td>-1</td>\n",
       "      <td>ba</td>\n",
       "    </tr>\n",
       "    <tr>\n",
       "      <th>4</th>\n",
       "      <td>4</td>\n",
       "      <td>4</td>\n",
       "      <td>Analyst - FP&amp;A Global Revenue</td>\n",
       "      <td>$56K-$102K (Glassdoor est.)</td>\n",
       "      <td>Magnite is the world's largest independent sel...</td>\n",
       "      <td>3.4</td>\n",
       "      <td>Rubicon Project\\n3.4</td>\n",
       "      <td>New York, NY</td>\n",
       "      <td>Los Angeles, CA</td>\n",
       "      <td>201 to 500 employees</td>\n",
       "      <td>2007</td>\n",
       "      <td>Company - Public</td>\n",
       "      <td>Internet</td>\n",
       "      <td>Information Technology</td>\n",
       "      <td>$100 to $500 million (USD)</td>\n",
       "      <td>PubMatic, AppNexus, Index Exchange</td>\n",
       "      <td>True</td>\n",
       "      <td>ba</td>\n",
       "    </tr>\n",
       "  </tbody>\n",
       "</table>\n",
       "</div>"
      ],
      "text/plain": [
       "  Unnamed: 0 index                                         Job Title  \\\n",
       "0          0     0  Business Analyst - Clinical & Logistics Platform   \n",
       "1          1     1                                  Business Analyst   \n",
       "2          2     2                                      Data Analyst   \n",
       "3          3     3   Information Security Analyst, Incident Response   \n",
       "4          4     4                     Analyst - FP&A Global Revenue   \n",
       "\n",
       "               Salary Estimate  \\\n",
       "0  $56K-$102K (Glassdoor est.)   \n",
       "1  $56K-$102K (Glassdoor est.)   \n",
       "2  $56K-$102K (Glassdoor est.)   \n",
       "3  $56K-$102K (Glassdoor est.)   \n",
       "4  $56K-$102K (Glassdoor est.)   \n",
       "\n",
       "                                     Job Description Rating  \\\n",
       "0  Company Overview\\n\\n\\nAt Memorial Sloan Ketter...    3.9   \n",
       "1  We are seeking for an energetic and collaborat...    3.8   \n",
       "2  For more than a decade, Asembia has been worki...    3.6   \n",
       "3  Job Description Summary\\nThe Information Secur...    3.6   \n",
       "4  Magnite is the world's largest independent sel...    3.4   \n",
       "\n",
       "                    Company Name            Location        Headquarters  \\\n",
       "0  Memorial Sloan-Kettering\\n3.9        New York, NY        New York, NY   \n",
       "1   Paine Schwartz Partners\\n3.8        New York, NY        New York, NY   \n",
       "2                   Asembia\\n3.6    Florham Park, NJ    Florham Park, NJ   \n",
       "3                        BD\\n3.6  Franklin Lakes, NJ  Franklin Lakes, NJ   \n",
       "4           Rubicon Project\\n3.4        New York, NY     Los Angeles, CA   \n",
       "\n",
       "                    Size Founded       Type of ownership  \\\n",
       "0       10000+ employees    1884  Nonprofit Organization   \n",
       "1      1 to 50 employees      -1       Company - Private   \n",
       "2  501 to 1000 employees    2004       Company - Private   \n",
       "3       10000+ employees    1897        Company - Public   \n",
       "4   201 to 500 employees    2007        Company - Public   \n",
       "\n",
       "                             Industry                     Sector  \\\n",
       "0    Health Care Services & Hospitals                Health Care   \n",
       "1    Venture Capital & Private Equity                    Finance   \n",
       "2           Biotech & Pharmaceuticals  Biotech & Pharmaceuticals   \n",
       "3  Health Care Products Manufacturing              Manufacturing   \n",
       "4                            Internet     Information Technology   \n",
       "\n",
       "                      Revenue  \\\n",
       "0      $2 to $5 billion (USD)   \n",
       "1    Unknown / Non-Applicable   \n",
       "2     $5 to $10 million (USD)   \n",
       "3          $10+ billion (USD)   \n",
       "4  $100 to $500 million (USD)   \n",
       "\n",
       "                                         Competitors Easy Apply category  \n",
       "0  Mayo Clinic, The Johns Hopkins Hospital, MD An...         -1       ba  \n",
       "1                                                 -1       True       ba  \n",
       "2                                                 -1         -1       ba  \n",
       "3                            Abbott, Siemens, Baxter         -1       ba  \n",
       "4                 PubMatic, AppNexus, Index Exchange       True       ba  "
      ]
     },
     "execution_count": 3,
     "metadata": {},
     "output_type": "execute_result"
    }
   ],
   "source": [
    "ba = pd.read_csv('c:/msda/data230/BusinessAnalyst.csv')\n",
    "ba['category'] = 'ba'\n",
    "ba.head()"
   ]
  },
  {
   "cell_type": "code",
   "execution_count": 4,
   "metadata": {},
   "outputs": [
    {
     "name": "stderr",
     "output_type": "stream",
     "text": [
      "C:\\Users\\Rui7803\\anaconda3\\lib\\site-packages\\pandas\\core\\frame.py:3997: SettingWithCopyWarning: \n",
      "A value is trying to be set on a copy of a slice from a DataFrame\n",
      "\n",
      "See the caveats in the documentation: https://pandas.pydata.org/pandas-docs/stable/user_guide/indexing.html#returning-a-view-versus-a-copy\n",
      "  errors=errors,\n"
     ]
    }
   ],
   "source": [
    "indexs_range = 0 # how many rows are mismacthing\n",
    "for i in range(len(ba['Unnamed: 0'])):\n",
    "    if not ba['Unnamed: 0'][i].isdigit():\n",
    "        indexs_range +=1\n",
    "\n",
    "dt_fix = ba.iloc[-indexs_range:,:] # sub dataset with the mischating rows\n",
    "dt_fix.drop(['Competitors','Easy Apply'],axis=1,inplace=True) \n",
    "dt_fix.columns = ba.columns[2:] #ignores the first 2 columns names\n",
    "\n",
    "ba.drop(ba.index[-indexs_range:],axis=0,inplace=True)\n",
    "ba.drop(['Unnamed: 0','index'],axis=1,inplace=True)\n",
    "ba = ba.append(dt_fix)"
   ]
  },
  {
   "cell_type": "code",
   "execution_count": 5,
   "metadata": {},
   "outputs": [
    {
     "data": {
      "text/plain": [
       "(4092, 16)"
      ]
     },
     "execution_count": 5,
     "metadata": {},
     "output_type": "execute_result"
    }
   ],
   "source": [
    "ba.shape"
   ]
  },
  {
   "cell_type": "code",
   "execution_count": 6,
   "metadata": {},
   "outputs": [
    {
     "data": {
      "text/plain": [
       "(2253, 16)"
      ]
     },
     "execution_count": 6,
     "metadata": {},
     "output_type": "execute_result"
    }
   ],
   "source": [
    "da = pd.read_csv('c:/msda/data230/DataAnalyst.csv')\n",
    "da['category'] = 'da'\n",
    "da.drop(columns = ['Unnamed: 0'], inplace = True)\n",
    "da.head()\n",
    "da.shape"
   ]
  },
  {
   "cell_type": "code",
   "execution_count": 7,
   "metadata": {},
   "outputs": [
    {
     "data": {
      "text/plain": [
       "(2528, 16)"
      ]
     },
     "execution_count": 7,
     "metadata": {},
     "output_type": "execute_result"
    }
   ],
   "source": [
    "de = pd.read_csv('c:/msda/data230/DataEngineer.csv')\n",
    "de['category'] = 'de'\n",
    "de.head()\n",
    "de.shape"
   ]
  },
  {
   "cell_type": "code",
   "execution_count": 8,
   "metadata": {},
   "outputs": [
    {
     "data": {
      "text/plain": [
       "(3909, 16)"
      ]
     },
     "execution_count": 8,
     "metadata": {},
     "output_type": "execute_result"
    }
   ],
   "source": [
    "ds = pd.read_csv('c:/msda/data230/DataScientist.csv')\n",
    "ds['category'] = 'ds'\n",
    "ds.drop(columns = ['Unnamed: 0', 'index'], inplace = True)\n",
    "ds.shape"
   ]
  },
  {
   "cell_type": "code",
   "execution_count": 9,
   "metadata": {},
   "outputs": [],
   "source": [
    "l_job = ['ba', 'da', 'de', 'ds']"
   ]
  },
  {
   "cell_type": "code",
   "execution_count": 10,
   "metadata": {},
   "outputs": [
    {
     "data": {
      "text/html": [
       "<div>\n",
       "<style scoped>\n",
       "    .dataframe tbody tr th:only-of-type {\n",
       "        vertical-align: middle;\n",
       "    }\n",
       "\n",
       "    .dataframe tbody tr th {\n",
       "        vertical-align: top;\n",
       "    }\n",
       "\n",
       "    .dataframe thead th {\n",
       "        text-align: right;\n",
       "    }\n",
       "</style>\n",
       "<table border=\"1\" class=\"dataframe\">\n",
       "  <thead>\n",
       "    <tr style=\"text-align: right;\">\n",
       "      <th></th>\n",
       "      <th>Job_Title</th>\n",
       "      <th>Salary_Estimate</th>\n",
       "      <th>Job_Description</th>\n",
       "      <th>Rating</th>\n",
       "      <th>Company_Name</th>\n",
       "      <th>Location</th>\n",
       "      <th>Headquarters</th>\n",
       "      <th>Size</th>\n",
       "      <th>Founded</th>\n",
       "      <th>Ownership</th>\n",
       "      <th>Industry</th>\n",
       "      <th>Sector</th>\n",
       "      <th>Revenue</th>\n",
       "      <th>Competitors</th>\n",
       "      <th>Easy_Apply</th>\n",
       "      <th>category</th>\n",
       "    </tr>\n",
       "  </thead>\n",
       "  <tbody>\n",
       "    <tr>\n",
       "      <th>0</th>\n",
       "      <td>Business Analyst - Clinical &amp; Logistics Platform</td>\n",
       "      <td>$56K-$102K (Glassdoor est.)</td>\n",
       "      <td>Company Overview\\n\\n\\nAt Memorial Sloan Ketter...</td>\n",
       "      <td>3.9</td>\n",
       "      <td>Memorial Sloan-Kettering\\n3.9</td>\n",
       "      <td>New York, NY</td>\n",
       "      <td>New York, NY</td>\n",
       "      <td>10000+ employees</td>\n",
       "      <td>1884</td>\n",
       "      <td>Nonprofit Organization</td>\n",
       "      <td>Health Care Services &amp; Hospitals</td>\n",
       "      <td>Health Care</td>\n",
       "      <td>$2 to $5 billion (USD)</td>\n",
       "      <td>Mayo Clinic, The Johns Hopkins Hospital, MD An...</td>\n",
       "      <td>-1</td>\n",
       "      <td>ba</td>\n",
       "    </tr>\n",
       "    <tr>\n",
       "      <th>1</th>\n",
       "      <td>Business Analyst</td>\n",
       "      <td>$56K-$102K (Glassdoor est.)</td>\n",
       "      <td>We are seeking for an energetic and collaborat...</td>\n",
       "      <td>3.8</td>\n",
       "      <td>Paine Schwartz Partners\\n3.8</td>\n",
       "      <td>New York, NY</td>\n",
       "      <td>New York, NY</td>\n",
       "      <td>1 to 50 employees</td>\n",
       "      <td>-1</td>\n",
       "      <td>Company - Private</td>\n",
       "      <td>Venture Capital &amp; Private Equity</td>\n",
       "      <td>Finance</td>\n",
       "      <td>Unknown / Non-Applicable</td>\n",
       "      <td>-1</td>\n",
       "      <td>True</td>\n",
       "      <td>ba</td>\n",
       "    </tr>\n",
       "    <tr>\n",
       "      <th>2</th>\n",
       "      <td>Data Analyst</td>\n",
       "      <td>$56K-$102K (Glassdoor est.)</td>\n",
       "      <td>For more than a decade, Asembia has been worki...</td>\n",
       "      <td>3.6</td>\n",
       "      <td>Asembia\\n3.6</td>\n",
       "      <td>Florham Park, NJ</td>\n",
       "      <td>Florham Park, NJ</td>\n",
       "      <td>501 to 1000 employees</td>\n",
       "      <td>2004</td>\n",
       "      <td>Company - Private</td>\n",
       "      <td>Biotech &amp; Pharmaceuticals</td>\n",
       "      <td>Biotech &amp; Pharmaceuticals</td>\n",
       "      <td>$5 to $10 million (USD)</td>\n",
       "      <td>-1</td>\n",
       "      <td>-1</td>\n",
       "      <td>ba</td>\n",
       "    </tr>\n",
       "    <tr>\n",
       "      <th>3</th>\n",
       "      <td>Information Security Analyst, Incident Response</td>\n",
       "      <td>$56K-$102K (Glassdoor est.)</td>\n",
       "      <td>Job Description Summary\\nThe Information Secur...</td>\n",
       "      <td>3.6</td>\n",
       "      <td>BD\\n3.6</td>\n",
       "      <td>Franklin Lakes, NJ</td>\n",
       "      <td>Franklin Lakes, NJ</td>\n",
       "      <td>10000+ employees</td>\n",
       "      <td>1897</td>\n",
       "      <td>Company - Public</td>\n",
       "      <td>Health Care Products Manufacturing</td>\n",
       "      <td>Manufacturing</td>\n",
       "      <td>$10+ billion (USD)</td>\n",
       "      <td>Abbott, Siemens, Baxter</td>\n",
       "      <td>-1</td>\n",
       "      <td>ba</td>\n",
       "    </tr>\n",
       "    <tr>\n",
       "      <th>4</th>\n",
       "      <td>Analyst - FP&amp;A Global Revenue</td>\n",
       "      <td>$56K-$102K (Glassdoor est.)</td>\n",
       "      <td>Magnite is the world's largest independent sel...</td>\n",
       "      <td>3.4</td>\n",
       "      <td>Rubicon Project\\n3.4</td>\n",
       "      <td>New York, NY</td>\n",
       "      <td>Los Angeles, CA</td>\n",
       "      <td>201 to 500 employees</td>\n",
       "      <td>2007</td>\n",
       "      <td>Company - Public</td>\n",
       "      <td>Internet</td>\n",
       "      <td>Information Technology</td>\n",
       "      <td>$100 to $500 million (USD)</td>\n",
       "      <td>PubMatic, AppNexus, Index Exchange</td>\n",
       "      <td>True</td>\n",
       "      <td>ba</td>\n",
       "    </tr>\n",
       "  </tbody>\n",
       "</table>\n",
       "</div>"
      ],
      "text/plain": [
       "                                          Job_Title  \\\n",
       "0  Business Analyst - Clinical & Logistics Platform   \n",
       "1                                  Business Analyst   \n",
       "2                                      Data Analyst   \n",
       "3   Information Security Analyst, Incident Response   \n",
       "4                     Analyst - FP&A Global Revenue   \n",
       "\n",
       "               Salary_Estimate  \\\n",
       "0  $56K-$102K (Glassdoor est.)   \n",
       "1  $56K-$102K (Glassdoor est.)   \n",
       "2  $56K-$102K (Glassdoor est.)   \n",
       "3  $56K-$102K (Glassdoor est.)   \n",
       "4  $56K-$102K (Glassdoor est.)   \n",
       "\n",
       "                                     Job_Description Rating  \\\n",
       "0  Company Overview\\n\\n\\nAt Memorial Sloan Ketter...    3.9   \n",
       "1  We are seeking for an energetic and collaborat...    3.8   \n",
       "2  For more than a decade, Asembia has been worki...    3.6   \n",
       "3  Job Description Summary\\nThe Information Secur...    3.6   \n",
       "4  Magnite is the world's largest independent sel...    3.4   \n",
       "\n",
       "                    Company_Name            Location        Headquarters  \\\n",
       "0  Memorial Sloan-Kettering\\n3.9        New York, NY        New York, NY   \n",
       "1   Paine Schwartz Partners\\n3.8        New York, NY        New York, NY   \n",
       "2                   Asembia\\n3.6    Florham Park, NJ    Florham Park, NJ   \n",
       "3                        BD\\n3.6  Franklin Lakes, NJ  Franklin Lakes, NJ   \n",
       "4           Rubicon Project\\n3.4        New York, NY     Los Angeles, CA   \n",
       "\n",
       "                    Size Founded               Ownership  \\\n",
       "0       10000+ employees    1884  Nonprofit Organization   \n",
       "1      1 to 50 employees      -1       Company - Private   \n",
       "2  501 to 1000 employees    2004       Company - Private   \n",
       "3       10000+ employees    1897        Company - Public   \n",
       "4   201 to 500 employees    2007        Company - Public   \n",
       "\n",
       "                             Industry                     Sector  \\\n",
       "0    Health Care Services & Hospitals                Health Care   \n",
       "1    Venture Capital & Private Equity                    Finance   \n",
       "2           Biotech & Pharmaceuticals  Biotech & Pharmaceuticals   \n",
       "3  Health Care Products Manufacturing              Manufacturing   \n",
       "4                            Internet     Information Technology   \n",
       "\n",
       "                      Revenue  \\\n",
       "0      $2 to $5 billion (USD)   \n",
       "1    Unknown / Non-Applicable   \n",
       "2     $5 to $10 million (USD)   \n",
       "3          $10+ billion (USD)   \n",
       "4  $100 to $500 million (USD)   \n",
       "\n",
       "                                         Competitors Easy_Apply category  \n",
       "0  Mayo Clinic, The Johns Hopkins Hospital, MD An...         -1       ba  \n",
       "1                                                 -1       True       ba  \n",
       "2                                                 -1         -1       ba  \n",
       "3                            Abbott, Siemens, Baxter         -1       ba  \n",
       "4                 PubMatic, AppNexus, Index Exchange       True       ba  "
      ]
     },
     "execution_count": 10,
     "metadata": {},
     "output_type": "execute_result"
    }
   ],
   "source": [
    "frames = [ba, da, de, ds]\n",
    "jobs = pd.concat(frames ) # or use the key parameter, keys = l_job\n",
    "jobs = jobs.rename(\n",
    "    columns={'Job Title': 'Job_Title',\n",
    "             'Salary Estimate': 'Salary_Estimate',\n",
    "             'Job Description': 'Job_Description',\n",
    "             'Company Name': 'Company_Name',\n",
    "             'Type of ownership': 'Ownership',\n",
    "             'Easy Apply': 'Easy_Apply'})\n",
    "jobs.head()"
   ]
  },
  {
   "cell_type": "code",
   "execution_count": 11,
   "metadata": {},
   "outputs": [
    {
     "data": {
      "text/plain": [
       "(12782, 16)"
      ]
     },
     "execution_count": 11,
     "metadata": {},
     "output_type": "execute_result"
    }
   ],
   "source": [
    "jobs.shape"
   ]
  },
  {
   "cell_type": "code",
   "execution_count": 12,
   "metadata": {},
   "outputs": [
    {
     "data": {
      "text/plain": [
       "count                           12782\n",
       "unique                            447\n",
       "top       $60K-$109K (Glassdoor est.)\n",
       "freq                               92\n",
       "Name: Salary_Estimate, dtype: object"
      ]
     },
     "execution_count": 12,
     "metadata": {},
     "output_type": "execute_result"
    }
   ],
   "source": [
    "jobs['Salary_Estimate'].describe()"
   ]
  },
  {
   "cell_type": "code",
   "execution_count": 13,
   "metadata": {},
   "outputs": [
    {
     "name": "stdout",
     "output_type": "stream",
     "text": [
      "<class 'pandas.core.frame.DataFrame'>\n",
      "Int64Index: 12782 entries, 0 to 3908\n",
      "Data columns (total 16 columns):\n",
      " #   Column           Non-Null Count  Dtype \n",
      "---  ------           --------------  ----- \n",
      " 0   Job_Title        12782 non-null  object\n",
      " 1   Salary_Estimate  12782 non-null  object\n",
      " 2   Job_Description  12782 non-null  object\n",
      " 3   Rating           12782 non-null  object\n",
      " 4   Company_Name     12781 non-null  object\n",
      " 5   Location         12782 non-null  object\n",
      " 6   Headquarters     12782 non-null  object\n",
      " 7   Size             12782 non-null  object\n",
      " 8   Founded          12782 non-null  object\n",
      " 9   Ownership        12782 non-null  object\n",
      " 10  Industry         12782 non-null  object\n",
      " 11  Sector           12782 non-null  object\n",
      " 12  Revenue          12782 non-null  object\n",
      " 13  Competitors      12782 non-null  object\n",
      " 14  Easy_Apply       12782 non-null  object\n",
      " 15  category         12782 non-null  object\n",
      "dtypes: object(16)\n",
      "memory usage: 1.7+ MB\n"
     ]
    }
   ],
   "source": [
    "jobs.info()"
   ]
  },
  {
   "cell_type": "code",
   "execution_count": 14,
   "metadata": {},
   "outputs": [],
   "source": [
    "add_col_name = []\n",
    "add_col = []"
   ]
  },
  {
   "cell_type": "code",
   "execution_count": 15,
   "metadata": {},
   "outputs": [],
   "source": [
    "def location(loc):\n",
    "    n = len(loc)\n",
    "    state = loc[n-2:n]\n",
    "    city = loc[:n-4]\n",
    "    return (state, city)\n",
    "\n",
    "l_state = []\n",
    "l_city = []\n",
    "for i in jobs['Location']:\n",
    "    state, city = location(i)\n",
    "    l_state.append(state)\n",
    "    l_city.append(city)\n",
    "add_col_name.append('State')\n",
    "add_col.append(l_state)\n",
    "add_col_name.append('City')\n",
    "add_col.append(l_city)\n"
   ]
  },
  {
   "cell_type": "code",
   "execution_count": 16,
   "metadata": {},
   "outputs": [],
   "source": [
    "def work_experience(job_d):\n",
    "    match_l = re.findall('(\\d{1,2})[-]?\\d?\\d?[+]? years \\w{2,20} experience', job_d)\n",
    "    if match_l:\n",
    "        result = int(match_l[0])\n",
    "    else:\n",
    "        result = 'NA'\n",
    "    return result\n",
    "w_years = []\n",
    "for i in jobs['Job_Description']:\n",
    "    w_years.append(work_experience(i))\n",
    "add_col_name.append('Work_experience')\n",
    "add_col.append(w_years)"
   ]
  },
  {
   "cell_type": "code",
   "execution_count": 17,
   "metadata": {},
   "outputs": [
    {
     "data": {
      "text/plain": [
       "12782"
      ]
     },
     "execution_count": 17,
     "metadata": {},
     "output_type": "execute_result"
    }
   ],
   "source": [
    "len(w_years)"
   ]
  },
  {
   "cell_type": "code",
   "execution_count": 18,
   "metadata": {},
   "outputs": [],
   "source": [
    "#for i in jobs['Job_Description']:\n",
    "#    r_m = re.findall('\\d{1,2}[-]?\\d?\\d?[+]? years \\w{2,20} experience',i)\n",
    "#    print(r_m)"
   ]
  },
  {
   "cell_type": "code",
   "execution_count": 19,
   "metadata": {},
   "outputs": [],
   "source": [
    "def flag_python(job_d):\n",
    "    find = re.findall('[Pp]ython', job_d)\n",
    "    # return (1 if f == 1 else 0)\n",
    "    if find:\n",
    "        f = 1\n",
    "    else:\n",
    "        f = 0\n",
    "    return f \n",
    "\n",
    "p_req = []\n",
    "for i in jobs['Job_Description']:\n",
    "    p_f = flag_python(i)\n",
    "    p_req.append(p_f)\n",
    "add_col_name.append('Flag_python')\n",
    "add_col.append(p_req)"
   ]
  },
  {
   "cell_type": "code",
   "execution_count": 20,
   "metadata": {},
   "outputs": [],
   "source": [
    "def flag_bachelor(job_d):\n",
    "    find1 = re.findall('[Bb]achelor', job_d)\n",
    "    find2 = re.findall('B.?S.?', job_d)\n",
    "    find3 = re.findall('4 [Yy]ear [Dd]egree', job_d)\n",
    "    if find1 or find2 or find3:\n",
    "        b_f = 1\n",
    "    else:\n",
    "        b_f = 0\n",
    "    return b_f\n",
    "\n",
    "b_req = []\n",
    "for i in jobs['Job_Description']:\n",
    "    b_f = flag_bachelor(i)\n",
    "    b_req.append(b_f)\n",
    "sum(b_req)/len(b_req)\n",
    "add_col_name.append('Flag_bachelor')\n",
    "add_col.append(b_req)"
   ]
  },
  {
   "cell_type": "code",
   "execution_count": 21,
   "metadata": {},
   "outputs": [
    {
     "data": {
      "text/plain": [
       "0.21796276013143484"
      ]
     },
     "execution_count": 21,
     "metadata": {},
     "output_type": "execute_result"
    }
   ],
   "source": [
    "def flag_master(job_d):\n",
    "    find = re.findall('[Mm]aster', job_d)\n",
    "    if find:\n",
    "        f = 1\n",
    "    else:\n",
    "        f = 0\n",
    "    return f\n",
    "\n",
    "m_req = []\n",
    "for i in jobs['Job_Description']:\n",
    "    m_f = flag_master(i)\n",
    "    m_req.append(m_f)\n",
    "add_col_name.append('Flag_master')\n",
    "add_col.append(m_req)\n",
    "sum(m_req)/len(m_req)"
   ]
  },
  {
   "cell_type": "code",
   "execution_count": 22,
   "metadata": {},
   "outputs": [
    {
     "data": {
      "text/plain": [
       "0.4748865592239086"
      ]
     },
     "execution_count": 22,
     "metadata": {},
     "output_type": "execute_result"
    }
   ],
   "source": [
    "def flag_sql(job_d):\n",
    "    find = re.findall('[Ss][Qq][Ll]', job_d)\n",
    "    if find:\n",
    "        f = 1\n",
    "    else:\n",
    "        f = 0\n",
    "    return f\n",
    "\n",
    "s_req = []\n",
    "for i in jobs['Job_Description']:\n",
    "    s_f = flag_sql(i)\n",
    "    s_req.append(s_f)\n",
    "add_col_name.append('Flag_sql')\n",
    "add_col.append(s_req)\n",
    "sum(s_req)/len(s_req)"
   ]
  },
  {
   "cell_type": "code",
   "execution_count": 23,
   "metadata": {},
   "outputs": [
    {
     "data": {
      "text/plain": [
       "0.15873885150993586"
      ]
     },
     "execution_count": 23,
     "metadata": {},
     "output_type": "execute_result"
    }
   ],
   "source": [
    "def flag_ml(job_d):\n",
    "    find = re.findall('[Mm]achine [Ll]earning', job_d)\n",
    "    if find:\n",
    "        f = 1\n",
    "    else:\n",
    "        f = 0\n",
    "    return f\n",
    "\n",
    "ml_req = []\n",
    "for i in jobs['Job_Description']:\n",
    "    ml_f = flag_ml(i)\n",
    "    ml_req.append(ml_f)\n",
    "add_col_name.append('Flag_ml')\n",
    "add_col.append(ml_req)\n",
    "sum(ml_req)/len(ml_req)"
   ]
  },
  {
   "cell_type": "code",
   "execution_count": 24,
   "metadata": {},
   "outputs": [
    {
     "data": {
      "text/plain": [
       "0.11281489594742607"
      ]
     },
     "execution_count": 24,
     "metadata": {},
     "output_type": "execute_result"
    }
   ],
   "source": [
    "def flag_r(job_d):\n",
    "    find = re.findall(' [/]?[Rr][/,]? ', job_d)\n",
    "    if find:\n",
    "        f = 1\n",
    "    else:\n",
    "        f = 0\n",
    "    return f\n",
    "\n",
    "r_req = []\n",
    "for i in jobs['Job_Description']:\n",
    "    r_f = flag_r(i)\n",
    "    r_req.append(r_f)\n",
    "add_col_name.append('Flag_r')\n",
    "add_col.append(r_req)\n",
    "sum(r_req)/len(r_req)"
   ]
  },
  {
   "cell_type": "code",
   "execution_count": 25,
   "metadata": {},
   "outputs": [
    {
     "data": {
      "text/plain": [
       "0.09779377249256767"
      ]
     },
     "execution_count": 25,
     "metadata": {},
     "output_type": "execute_result"
    }
   ],
   "source": [
    "def flag_v(job_d):\n",
    "    find = re.findall('[Dd]ata [Vv]isualization', job_d)\n",
    "    if find:\n",
    "        f = 1\n",
    "    else:\n",
    "        f = 0\n",
    "    return f\n",
    "\n",
    "v_req = []\n",
    "for i in jobs['Job_Description']:\n",
    "    v_f = flag_v(i)\n",
    "    v_req.append(v_f)\n",
    "add_col_name.append('Flag_visualization')\n",
    "add_col.append(v_req)\n",
    "sum(v_req)/len(v_req)"
   ]
  },
  {
   "cell_type": "code",
   "execution_count": 26,
   "metadata": {},
   "outputs": [
    {
     "data": {
      "text/plain": [
       "0.11281489594742607"
      ]
     },
     "execution_count": 26,
     "metadata": {},
     "output_type": "execute_result"
    }
   ],
   "source": [
    "def flag_h(job_d):\n",
    "    find = re.findall('[Hh]adoop', job_d)\n",
    "    if find:\n",
    "        f = 1\n",
    "    else:\n",
    "        f = 0\n",
    "    return f\n",
    "\n",
    "h_req = []\n",
    "for i in jobs['Job_Description']:\n",
    "    h_f = flag_h(i)\n",
    "    h_req.append(h_f)\n",
    "add_col_name.append('Flag_hadoop')\n",
    "add_col.append(h_req)\n",
    "sum(h_req)/len(h_req)"
   ]
  },
  {
   "cell_type": "code",
   "execution_count": 27,
   "metadata": {},
   "outputs": [
    {
     "data": {
      "text/plain": [
       "0.13878892192145204"
      ]
     },
     "execution_count": 27,
     "metadata": {},
     "output_type": "execute_result"
    }
   ],
   "source": [
    "def flag_b(job_d):\n",
    "    find = re.findall('[Bb]ig [Dd]ata', job_d)\n",
    "    if find:\n",
    "        f = 1\n",
    "    else:\n",
    "        f = 0\n",
    "    return f\n",
    "\n",
    "b_req = []\n",
    "for i in jobs['Job_Description']:\n",
    "    b_f = flag_b(i)\n",
    "    b_req.append(b_f)\n",
    "add_col_name.append('Flag_big_data')\n",
    "add_col.append(b_req)\n",
    "sum(b_req)/len(b_req)"
   ]
  },
  {
   "cell_type": "code",
   "execution_count": 28,
   "metadata": {},
   "outputs": [
    {
     "data": {
      "text/plain": [
       "0.1671882334532937"
      ]
     },
     "execution_count": 28,
     "metadata": {},
     "output_type": "execute_result"
    }
   ],
   "source": [
    "def flag_j(job_d):\n",
    "    find = re.findall('[Jj]ava', job_d)\n",
    "    if find:\n",
    "        f = 1\n",
    "    else:\n",
    "        f = 0\n",
    "    return f\n",
    "\n",
    "j_req = []\n",
    "for i in jobs['Job_Description']:\n",
    "    j_f = flag_j(i)\n",
    "    j_req.append(j_f)\n",
    "add_col_name.append('Flag_java')\n",
    "add_col.append(j_req)\n",
    "sum(j_req)/len(j_req)"
   ]
  },
  {
   "cell_type": "code",
   "execution_count": 29,
   "metadata": {},
   "outputs": [
    {
     "data": {
      "text/plain": [
       "0.15858238147394774"
      ]
     },
     "execution_count": 29,
     "metadata": {},
     "output_type": "execute_result"
    }
   ],
   "source": [
    "def flag_t(job_d):\n",
    "    find = re.findall('[Tt]ableau', job_d)\n",
    "    if find:\n",
    "        f = 1\n",
    "    else:\n",
    "        f = 0\n",
    "    return f\n",
    "\n",
    "t_req = []\n",
    "for i in jobs['Job_Description']:\n",
    "    t_f = flag_t(i)\n",
    "    t_req.append(t_f)\n",
    "add_col_name.append('Flag_tableau')\n",
    "add_col.append(t_req)\n",
    "sum(t_req)/len(t_req)"
   ]
  },
  {
   "cell_type": "code",
   "execution_count": 30,
   "metadata": {},
   "outputs": [
    {
     "data": {
      "text/plain": [
       "0.004381161007667032"
      ]
     },
     "execution_count": 30,
     "metadata": {},
     "output_type": "execute_result"
    }
   ],
   "source": [
    "def flag_gis(job_d):\n",
    "    find = re.findall('[Aa]rc ?[Gg][Ii][Ss]', job_d)\n",
    "    if find:\n",
    "        f = 1\n",
    "    else:\n",
    "        f = 0\n",
    "    return f\n",
    "\n",
    "gis_req = []\n",
    "for i in jobs['Job_Description']:\n",
    "    gis_f = flag_gis(i)\n",
    "    gis_req.append(gis_f)\n",
    "add_col_name.append('Flag_arc_gis')\n",
    "add_col.append(gis_req)\n",
    "sum(gis_req)/len(gis_req)"
   ]
  },
  {
   "cell_type": "code",
   "execution_count": 31,
   "metadata": {},
   "outputs": [
    {
     "data": {
      "text/plain": [
       "0.03418870286340166"
      ]
     },
     "execution_count": 31,
     "metadata": {},
     "output_type": "execute_result"
    }
   ],
   "source": [
    "def flag_nlp(job_d):\n",
    "    find1 = re.findall('[Nn][Ll][Pp]', job_d)\n",
    "    find2 = re.findall('[Nn]atural [Ll]anguage [Pp]rocessing', job_d)\n",
    "    find3 = re.findall('[Nn]euro-? ?[Ll]inguistic [Pp]rogramming', job_d)\n",
    "    if find1 or find2 or find3:\n",
    "        f = 1\n",
    "    else:\n",
    "        f = 0\n",
    "    return f\n",
    "\n",
    "nlp_req = []\n",
    "for i in jobs['Job_Description']:\n",
    "    nlp_f = flag_nlp(i)\n",
    "    nlp_req.append(nlp_f)\n",
    "add_col_name.append('Flag_nlp')\n",
    "add_col.append(nlp_req)\n",
    "sum(nlp_req)/len(nlp_req)"
   ]
  },
  {
   "cell_type": "code",
   "execution_count": 32,
   "metadata": {},
   "outputs": [
    {
     "data": {
      "text/plain": [
       "0.32318885933343766"
      ]
     },
     "execution_count": 32,
     "metadata": {},
     "output_type": "execute_result"
    }
   ],
   "source": [
    "def flag_db(job_d):\n",
    "    find = re.findall('[Dd]atabase', job_d)\n",
    "    if find:\n",
    "        f = 1\n",
    "    else:\n",
    "        f = 0\n",
    "    return f\n",
    "\n",
    "db_req = []\n",
    "for i in jobs['Job_Description']:\n",
    "    db_f = flag_db(i)\n",
    "    db_req.append(db_f)\n",
    "add_col_name.append('Flag_database')\n",
    "add_col.append(db_req)\n",
    "sum(db_req)/len(db_req)"
   ]
  },
  {
   "cell_type": "code",
   "execution_count": null,
   "metadata": {},
   "outputs": [],
   "source": []
  },
  {
   "cell_type": "code",
   "execution_count": 33,
   "metadata": {},
   "outputs": [
    {
     "data": {
      "text/plain": [
       "(12782, 33)"
      ]
     },
     "execution_count": 33,
     "metadata": {},
     "output_type": "execute_result"
    }
   ],
   "source": [
    "for i, j in zip(add_col_name, add_col):\n",
    "    jobs[i] = pd.Series(j)\n",
    "jobs.shape\n",
    "# jobs.to_csv('c:\\\\msda\\\\data230\\\\jobs_v1.csv')"
   ]
  },
  {
   "cell_type": "code",
   "execution_count": null,
   "metadata": {},
   "outputs": [],
   "source": []
  },
  {
   "cell_type": "code",
   "execution_count": null,
   "metadata": {},
   "outputs": [],
   "source": []
  },
  {
   "cell_type": "code",
   "execution_count": 34,
   "metadata": {},
   "outputs": [],
   "source": [
    "job_title_str=' '.join([x for x in jobs['Job_Description']])\n",
    "tokens = nltk.word_tokenize(job_title_str)\n",
    "tokens=[x.lower() for x in tokens]"
   ]
  },
  {
   "cell_type": "code",
   "execution_count": 35,
   "metadata": {},
   "outputs": [],
   "source": [
    "from nltk.probability import FreqDist\n",
    "fdist = FreqDist(tokens)\n",
    "tops=fdist.most_common(100)"
   ]
  },
  {
   "cell_type": "code",
   "execution_count": 13,
   "metadata": {},
   "outputs": [
    {
     "name": "stdout",
     "output_type": "stream",
     "text": [
      "[('and', 350742), ('to', 185169), ('the', 152484), ('of', 138091), ('in', 103264), ('data', 93096), ('with', 89476), ('for', 67182), ('experience', 61341), ('or', 55295), ('business', 45043), ('is', 41533), ('as', 37070), ('our', 33477), ('work', 31130), ('you', 31044), ('we', 30776), ('on', 30398), ('will', 27494), ('be', 27040), ('are', 26037), ('that', 24146), ('an', 23548), ('skills', 23525), ('team', 22654), ('years', 18976), ('ability', 18784), ('management', 18495), ('requirements', 18153), ('this', 17660), ('at', 17607), ('development', 17535), ('analysis', 16849), ('by', 16426), ('other', 16295), ('support', 15957), ('all', 15728), ('knowledge', 15665), ('systems', 15419), ('solutions', 14889), ('job', 14672), ('have', 14527), ('from', 14527), ('required', 14491), ('technical', 14445), ('information', 14328), ('working', 13470), ('strong', 13340), ('including', 13218), ('design', 12526), (\"'s\", 12405), ('new', 12398), ('your', 12299), ('analyst', 11344), ('technology', 11065), ('project', 10891), ('tools', 10854), ('software', 10718), ('related', 10609), ('analytics', 10492), ('it', 10425), ('degree', 10303), ('science', 10159), ('develop', 10120), ('company', 10116), ('process', 10091), ('position', 9965), ('services', 9891), ('engineering', 9785), ('provide', 9758), ('environment', 9700), ('using', 9618), ('must', 9550), ('sql', 9156), ('product', 8898), ('more', 8753), ('teams', 8738), ('processes', 8728), ('preferred', 8651), ('status', 8594), ('role', 8492), ('their', 8423), ('not', 8376), ('opportunity', 8350), ('projects', 8206), ('system', 8124), ('quality', 8051), ('such', 7870), ('complex', 7842), ('research', 7790), ('reporting', 7699), ('--', 7687), ('responsibilities', 7668), ('communication', 7449), ('through', 7378), ('computer', 7217), ('and/or', 7114), ('understanding', 7087), ('customer', 7065), ('across', 6978)]\n"
     ]
    }
   ],
   "source": [
    "delarr=[]\n",
    "for key in fdist:\n",
    "    if len(key)<2:\n",
    "        delarr.append(key)\n",
    "for key in delarr:\n",
    "    del fdist[key]\n",
    "    \n",
    "tops=fdist.most_common(100)\n",
    "print(tops)\n"
   ]
  },
  {
   "cell_type": "code",
   "execution_count": 36,
   "metadata": {},
   "outputs": [],
   "source": [
    "pat_lead=re.compile(r'lead|principal|iii|iv',re.I)\n",
    "pat_sr=re.compile(r'senior|sr.|sr|ii',re.I)\n",
    "pat_jr=re.compile(r'junior|jr|jr.|entry|i',re.I)\n",
    "# from https://www.kaggle.com/andrewhou/data-job-analysis-visualization-using-nlp-rege"
   ]
  },
  {
   "cell_type": "code",
   "execution_count": 37,
   "metadata": {},
   "outputs": [],
   "source": [
    "def job_title(row):\n",
    "    if re.match(pat_lead,row['Job_Title']):\n",
    "        return 'Lead'\n",
    "    if re.match(pat_sr,row['Job_Title']):\n",
    "        return 'Senior'\n",
    "    if re.match(pat_jr,row['Job_Title']):\n",
    "        return 'Junior'\n",
    "jobs['Job_Level']=jobs.apply(job_title,axis=1)"
   ]
  },
  {
   "cell_type": "code",
   "execution_count": 38,
   "metadata": {},
   "outputs": [
    {
     "name": "stdout",
     "output_type": "stream",
     "text": [
      "465 1775 315\n"
     ]
    }
   ],
   "source": [
    "J = 0\n",
    "S = 0\n",
    "L = 0\n",
    "for i in jobs['Job_Level']:\n",
    "    if i == 'Junior':\n",
    "        J += 1\n",
    "    elif i == 'Senior':\n",
    "        S += 1\n",
    "    elif i == 'Lead':\n",
    "        L += 1\n",
    "print(J, S, L)"
   ]
  },
  {
   "cell_type": "code",
   "execution_count": 38,
   "metadata": {},
   "outputs": [],
   "source": [
    "pat=re.compile(r'\\d+')\n",
    "sal_df=(jobs['Salary_Estimate'].str.findall(pat)).apply(pd.Series)\n",
    "sal_df.columns=['sal_low','sal_up']\n",
    "jobs=pd.concat([jobs,sal_df],axis=1)"
   ]
  },
  {
   "cell_type": "code",
   "execution_count": 39,
   "metadata": {},
   "outputs": [],
   "source": [
    "jobs = jobs.dropna(subset = ['sal_up'])"
   ]
  },
  {
   "cell_type": "code",
   "execution_count": 40,
   "metadata": {},
   "outputs": [],
   "source": [
    "jobs['sal_low']=jobs['sal_low'].astype('int')\n",
    "jobs['sal_up']=jobs['sal_up'].astype('int')\n",
    "jobs['sal_mean']=(jobs['sal_low']+jobs['sal_up'])/2"
   ]
  },
  {
   "cell_type": "code",
   "execution_count": null,
   "metadata": {},
   "outputs": [],
   "source": []
  },
  {
   "cell_type": "code",
   "execution_count": 42,
   "metadata": {},
   "outputs": [],
   "source": [
    "# jobs = jobs.dropna(subset = ['State'])"
   ]
  },
  {
   "cell_type": "code",
   "execution_count": 41,
   "metadata": {},
   "outputs": [],
   "source": [
    "jobs.to_csv('c:\\\\msda\\\\data230\\\\jobs_0911.csv')"
   ]
  },
  {
   "cell_type": "code",
   "execution_count": 100,
   "metadata": {},
   "outputs": [
    {
     "data": {
      "text/plain": [
       "(12781, 37)"
      ]
     },
     "execution_count": 100,
     "metadata": {},
     "output_type": "execute_result"
    }
   ],
   "source": [
    "jobs.shape"
   ]
  },
  {
   "cell_type": "code",
   "execution_count": 14,
   "metadata": {},
   "outputs": [
    {
     "name": "stderr",
     "output_type": "stream",
     "text": [
      "[nltk_data] Downloading package stopwords to\n",
      "[nltk_data]     C:\\Users\\Rui7803\\AppData\\Roaming\\nltk_data...\n",
      "[nltk_data]   Package stopwords is already up-to-date!\n"
     ]
    }
   ],
   "source": [
    "from nltk.corpus import stopwords\n",
    "nltk.download('stopwords')\n",
    "from nltk.tokenize import word_tokenize\n",
    "stops = stopwords.words()"
   ]
  },
  {
   "cell_type": "code",
   "execution_count": 17,
   "metadata": {},
   "outputs": [],
   "source": [
    "words = ba['Job Description']\n",
    "words_ba = ' '.join(words)"
   ]
  },
  {
   "cell_type": "code",
   "execution_count": 18,
   "metadata": {},
   "outputs": [],
   "source": [
    "words1 = word_tokenize(words_ba)"
   ]
  },
  {
   "cell_type": "code",
   "execution_count": 19,
   "metadata": {},
   "outputs": [],
   "source": [
    "words2 = [word for word in words1 if not word in stops]"
   ]
  },
  {
   "cell_type": "code",
   "execution_count": 20,
   "metadata": {},
   "outputs": [],
   "source": [
    "words3 = ' '.join(words2)"
   ]
  },
  {
   "cell_type": "code",
   "execution_count": null,
   "metadata": {},
   "outputs": [],
   "source": [
    "type(words3)"
   ]
  },
  {
   "cell_type": "code",
   "execution_count": 21,
   "metadata": {},
   "outputs": [
    {
     "data": {
      "image/png": "[encoded data removed]",
      "text/plain": [
       "<Figure size 432x288 with 1 Axes>"
      ]
     },
     "metadata": {
      "needs_background": "light"
     },
     "output_type": "display_data"
    }
   ],
   "source": [
    "wc = WordCloud().generate(words3)\n",
    "plt.imshow(wc)\n",
    "plt.axis('off')\n",
    "plt.show()"
   ]
  },
  {
   "cell_type": "code",
   "execution_count": 24,
   "metadata": {},
   "outputs": [
    {
     "data": {
      "image/png": "[encoded data removed]",
      "text/plain": [
       "<Figure size 432x288 with 1 Axes>"
      ]
     },
     "metadata": {
      "needs_background": "light"
     },
     "output_type": "display_data"
    }
   ],
   "source": [
    "wc = WordCloud().generate(words3)\n",
    "plt.imshow(wc)\n",
    "plt.axis('off')\n",
    "plt.show()"
   ]
  },
  {
   "cell_type": "code",
   "execution_count": 58,
   "metadata": {},
   "outputs": [],
   "source": [
    "def wcloud(strs, sws):\n",
    "    words = ' '.join(strs)\n",
    "    words1 = word_tokenize(words)\n",
    "    words2 = [word for word in words1 if not word in sws]\n",
    "    words3 = ' '.join(words2)\n",
    "    wc = WordCloud().generate(words3)\n",
    "    plt.imshow(wc)\n",
    "    plt.axis('off')\n",
    "    plt.show()"
   ]
  },
  {
   "cell_type": "code",
   "execution_count": 59,
   "metadata": {},
   "outputs": [],
   "source": [
    "stops.append('job description')\n"
   ]
  },
  {
   "cell_type": "code",
   "execution_count": 60,
   "metadata": {},
   "outputs": [
    {
     "data": {
      "image/png": "[encoded data removed]",
      "text/plain": [
       "<Figure size 432x288 with 1 Axes>"
      ]
     },
     "metadata": {
      "needs_background": "light"
     },
     "output_type": "display_data"
    }
   ],
   "source": [
    "all_jd = jobs['Job_Description']\n",
    "wcloud(all_jd, stops)"
   ]
  },
  {
   "cell_type": "code",
   "execution_count": null,
   "metadata": {},
   "outputs": [],
   "source": []
  },
  {
   "cell_type": "code",
   "execution_count": null,
   "metadata": {},
   "outputs": [],
   "source": []
  }
 ],
 "metadata": {
  "kernelspec": {
   "display_name": "Python 3",
   "language": "python",
   "name": "python3"
  },
  "language_info": {
   "codemirror_mode": {
    "name": "ipython",
    "version": 3
   },
   "file_extension": ".py",
   "mimetype": "text/x-python",
   "name": "python",
   "nbconvert_exporter": "python",
   "pygments_lexer": "ipython3",
   "version": "3.7.6"
  }
 },
 "nbformat": 4,
 "nbformat_minor": 4
}
