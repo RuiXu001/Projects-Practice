{
 "cells": [
  {
   "cell_type": "code",
   "execution_count": 1,
   "metadata": {},
   "outputs": [],
   "source": [
    "import pandas as pd\n",
    "import numpy as np\n",
    "import os\n",
    "\n",
    "import matplotlib.pyplot as plt\n",
    "import seaborn as sns\n",
    "\n",
    "base_dir=r'D:\\kaggle\\ab test'\n",
    "os.chdir(base_dir)\n",
    "\n"
   ]
  },
  {
   "cell_type": "code",
   "execution_count": 2,
   "metadata": {},
   "outputs": [
    {
     "data": {
      "text/html": [
       "<div>\n",
       "<style scoped>\n",
       "    .dataframe tbody tr th:only-of-type {\n",
       "        vertical-align: middle;\n",
       "    }\n",
       "\n",
       "    .dataframe tbody tr th {\n",
       "        vertical-align: top;\n",
       "    }\n",
       "\n",
       "    .dataframe thead th {\n",
       "        text-align: right;\n",
       "    }\n",
       "</style>\n",
       "<table border=\"1\" class=\"dataframe\">\n",
       "  <thead>\n",
       "    <tr style=\"text-align: right;\">\n",
       "      <th></th>\n",
       "      <th>userid</th>\n",
       "      <th>version</th>\n",
       "      <th>sum_gamerounds</th>\n",
       "      <th>retention_1</th>\n",
       "      <th>retention_7</th>\n",
       "    </tr>\n",
       "  </thead>\n",
       "  <tbody>\n",
       "    <tr>\n",
       "      <th>0</th>\n",
       "      <td>116</td>\n",
       "      <td>gate_30</td>\n",
       "      <td>3</td>\n",
       "      <td>False</td>\n",
       "      <td>False</td>\n",
       "    </tr>\n",
       "    <tr>\n",
       "      <th>1</th>\n",
       "      <td>337</td>\n",
       "      <td>gate_30</td>\n",
       "      <td>38</td>\n",
       "      <td>True</td>\n",
       "      <td>False</td>\n",
       "    </tr>\n",
       "    <tr>\n",
       "      <th>2</th>\n",
       "      <td>377</td>\n",
       "      <td>gate_40</td>\n",
       "      <td>165</td>\n",
       "      <td>True</td>\n",
       "      <td>False</td>\n",
       "    </tr>\n",
       "    <tr>\n",
       "      <th>3</th>\n",
       "      <td>483</td>\n",
       "      <td>gate_40</td>\n",
       "      <td>1</td>\n",
       "      <td>False</td>\n",
       "      <td>False</td>\n",
       "    </tr>\n",
       "    <tr>\n",
       "      <th>4</th>\n",
       "      <td>488</td>\n",
       "      <td>gate_40</td>\n",
       "      <td>179</td>\n",
       "      <td>True</td>\n",
       "      <td>True</td>\n",
       "    </tr>\n",
       "  </tbody>\n",
       "</table>\n",
       "</div>"
      ],
      "text/plain": [
       "   userid  version  sum_gamerounds  retention_1  retention_7\n",
       "0     116  gate_30               3        False        False\n",
       "1     337  gate_30              38         True        False\n",
       "2     377  gate_40             165         True        False\n",
       "3     483  gate_40               1        False        False\n",
       "4     488  gate_40             179         True         True"
      ]
     },
     "execution_count": 2,
     "metadata": {},
     "output_type": "execute_result"
    }
   ],
   "source": [
    "df = pd.read_csv('cookie_cats.csv')\n",
    "df.head()\n"
   ]
  },
  {
   "cell_type": "markdown",
   "metadata": {},
   "source": [
    "No missing value.\n",
    "\n",
    "There are 90189 records. No duplicated userid or duplicates. "
   ]
  },
  {
   "cell_type": "code",
   "execution_count": 3,
   "metadata": {},
   "outputs": [
    {
     "name": "stdout",
     "output_type": "stream",
     "text": [
      "<class 'pandas.core.frame.DataFrame'>\n",
      "RangeIndex: 90189 entries, 0 to 90188\n",
      "Data columns (total 5 columns):\n",
      " #   Column          Non-Null Count  Dtype \n",
      "---  ------          --------------  ----- \n",
      " 0   userid          90189 non-null  int64 \n",
      " 1   version         90189 non-null  object\n",
      " 2   sum_gamerounds  90189 non-null  int64 \n",
      " 3   retention_1     90189 non-null  bool  \n",
      " 4   retention_7     90189 non-null  bool  \n",
      "dtypes: bool(2), int64(2), object(1)\n",
      "memory usage: 2.2+ MB\n"
     ]
    }
   ],
   "source": [
    "# check missing value\n",
    "df.info()\n",
    "#df.isnull().sum()"
   ]
  },
  {
   "cell_type": "code",
   "execution_count": 4,
   "metadata": {},
   "outputs": [
    {
     "data": {
      "text/plain": [
       "90189"
      ]
     },
     "execution_count": 4,
     "metadata": {},
     "output_type": "execute_result"
    }
   ],
   "source": [
    "df.userid.nunique()\n",
    "# df[df.userid.duplicated(keep=False)].sort_values(by = 'userid').head(10)"
   ]
  },
  {
   "cell_type": "markdown",
   "metadata": {},
   "source": [
    "About 3994 players (4.43% of the total) downloaded and installed the game but never play this game. \n",
    "\n",
    "One user played the game 49854 rounds. Others plays less or equal to 2961 rounds."
   ]
  },
  {
   "cell_type": "code",
   "execution_count": 5,
   "metadata": {},
   "outputs": [
    {
     "data": {
      "text/plain": [
       "4.42847797403231"
      ]
     },
     "execution_count": 5,
     "metadata": {},
     "output_type": "execute_result"
    }
   ],
   "source": [
    "df.groupby(['sum_gamerounds'])['userid'].count()[0]/len(df)*100"
   ]
  },
  {
   "cell_type": "code",
   "execution_count": 6,
   "metadata": {},
   "outputs": [
    {
     "name": "stdout",
     "output_type": "stream",
     "text": [
      "sum_gamerounds\n",
      "0        3994\n",
      "1        5538\n",
      "2        4606\n",
      "3        3958\n",
      "4        3629\n",
      "         ... \n",
      "2294        1\n",
      "2438        1\n",
      "2640        1\n",
      "2961        1\n",
      "49854       1\n",
      "Name: userid, Length: 942, dtype: int64\n"
     ]
    },
    {
     "name": "stderr",
     "output_type": "stream",
     "text": [
      "C:\\Users\\xurui\\Anaconda3\\lib\\site-packages\\seaborn\\_decorators.py:36: FutureWarning: Pass the following variable as a keyword arg: x. From version 0.12, the only valid positional argument will be `data`, and passing other arguments without an explicit keyword will result in an error or misinterpretation.\n",
      "  warnings.warn(\n"
     ]
    },
    {
     "data": {
      "text/plain": [
       "<AxesSubplot:xlabel='sum_gamerounds'>"
      ]
     },
     "execution_count": 6,
     "metadata": {},
     "output_type": "execute_result"
    },
    {
     "data": {
      "image/png": "[encoded data removed]",
      "text/plain": [
       "<Figure size 432x288 with 1 Axes>"
      ]
     },
     "metadata": {
      "needs_background": "light"
     },
     "output_type": "display_data"
    }
   ],
   "source": [
    "# outliers\n",
    "print(df.groupby(['sum_gamerounds'])['userid'].count())\n",
    "sns.boxplot(df['sum_gamerounds'])"
   ]
  },
  {
   "cell_type": "code",
   "execution_count": 7,
   "metadata": {},
   "outputs": [
    {
     "data": {
      "text/html": [
       "<div>\n",
       "<style scoped>\n",
       "    .dataframe tbody tr th:only-of-type {\n",
       "        vertical-align: middle;\n",
       "    }\n",
       "\n",
       "    .dataframe tbody tr th {\n",
       "        vertical-align: top;\n",
       "    }\n",
       "\n",
       "    .dataframe thead th {\n",
       "        text-align: right;\n",
       "    }\n",
       "</style>\n",
       "<table border=\"1\" class=\"dataframe\">\n",
       "  <thead>\n",
       "    <tr style=\"text-align: right;\">\n",
       "      <th></th>\n",
       "      <th>count</th>\n",
       "      <th>mean</th>\n",
       "      <th>std</th>\n",
       "      <th>min</th>\n",
       "      <th>0.1%</th>\n",
       "      <th>1%</th>\n",
       "      <th>5%</th>\n",
       "      <th>10%</th>\n",
       "      <th>20%</th>\n",
       "      <th>50%</th>\n",
       "      <th>80%</th>\n",
       "      <th>90%</th>\n",
       "      <th>95%</th>\n",
       "      <th>99%</th>\n",
       "      <th>99.9%</th>\n",
       "      <th>max</th>\n",
       "    </tr>\n",
       "  </thead>\n",
       "  <tbody>\n",
       "    <tr>\n",
       "      <th>sum_gamerounds</th>\n",
       "      <td>90189.0</td>\n",
       "      <td>51.872457</td>\n",
       "      <td>195.050858</td>\n",
       "      <td>0.0</td>\n",
       "      <td>0.0</td>\n",
       "      <td>0.0</td>\n",
       "      <td>1.0</td>\n",
       "      <td>1.0</td>\n",
       "      <td>3.0</td>\n",
       "      <td>16.0</td>\n",
       "      <td>67.0</td>\n",
       "      <td>134.0</td>\n",
       "      <td>221.0</td>\n",
       "      <td>493.0</td>\n",
       "      <td>1073.624</td>\n",
       "      <td>49854.0</td>\n",
       "    </tr>\n",
       "  </tbody>\n",
       "</table>\n",
       "</div>"
      ],
      "text/plain": [
       "                  count       mean         std  min  0.1%   1%   5%  10%  20%  \\\n",
       "sum_gamerounds  90189.0  51.872457  195.050858  0.0   0.0  0.0  1.0  1.0  3.0   \n",
       "\n",
       "                 50%   80%    90%    95%    99%     99.9%      max  \n",
       "sum_gamerounds  16.0  67.0  134.0  221.0  493.0  1073.624  49854.0  "
      ]
     },
     "execution_count": 7,
     "metadata": {},
     "output_type": "execute_result"
    }
   ],
   "source": [
    "df.describe([0.001, 0.01, 0.05, 0.10, 0.20, 0.80, 0.90, 0.95, 0.99, 0.999])[['sum_gamerounds']].T"
   ]
  },
  {
   "cell_type": "code",
   "execution_count": 8,
   "metadata": {},
   "outputs": [
    {
     "name": "stdout",
     "output_type": "stream",
     "text": [
      "High boundary 120.0\n",
      "Low boundary -64.0\n"
     ]
    },
    {
     "data": {
      "text/plain": [
       "<matplotlib.lines.Line2D at 0x247197df8e0>"
      ]
     },
     "execution_count": 8,
     "metadata": {},
     "output_type": "execute_result"
    },
    {
     "data": {
      "image/png": "[encoded data removed]",
      "text/plain": [
       "<Figure size 432x288 with 1 Axes>"
      ]
     },
     "metadata": {
      "needs_background": "light"
     },
     "output_type": "display_data"
    }
   ],
   "source": [
    "percentile25 = df['sum_gamerounds'].quantile(0.25)\n",
    "percentile75 = df['sum_gamerounds'].quantile(0.75)\n",
    "iqr = percentile75-percentile25\n",
    "upper_limit = percentile75 + 1.5 * iqr\n",
    "lower_limit = percentile25 - 1.5 * iqr\n",
    "print(\"High boundary\",upper_limit)\n",
    "print(\"Low boundary\",lower_limit)\n",
    "df['sum_gamerounds'].plot(kind = 'density', c='b')\n",
    "plt.axvline(x=upper_limit,c='orange', linestyle=\"dashed\")\n",
    "plt.axvline(x=lower_limit, c='orange', linestyle=\"dashed\")"
   ]
  },
  {
   "cell_type": "code",
   "execution_count": 9,
   "metadata": {},
   "outputs": [
    {
     "data": {
      "text/html": [
       "<div>\n",
       "<style scoped>\n",
       "    .dataframe tbody tr th:only-of-type {\n",
       "        vertical-align: middle;\n",
       "    }\n",
       "\n",
       "    .dataframe tbody tr th {\n",
       "        vertical-align: top;\n",
       "    }\n",
       "\n",
       "    .dataframe thead th {\n",
       "        text-align: right;\n",
       "    }\n",
       "</style>\n",
       "<table border=\"1\" class=\"dataframe\">\n",
       "  <thead>\n",
       "    <tr style=\"text-align: right;\">\n",
       "      <th></th>\n",
       "      <th>userid</th>\n",
       "      <th>version</th>\n",
       "      <th>sum_gamerounds</th>\n",
       "      <th>retention_1</th>\n",
       "      <th>retention_7</th>\n",
       "    </tr>\n",
       "  </thead>\n",
       "  <tbody>\n",
       "    <tr>\n",
       "      <th>2</th>\n",
       "      <td>377</td>\n",
       "      <td>gate_40</td>\n",
       "      <td>165</td>\n",
       "      <td>True</td>\n",
       "      <td>False</td>\n",
       "    </tr>\n",
       "    <tr>\n",
       "      <th>4</th>\n",
       "      <td>488</td>\n",
       "      <td>gate_40</td>\n",
       "      <td>179</td>\n",
       "      <td>True</td>\n",
       "      <td>True</td>\n",
       "    </tr>\n",
       "    <tr>\n",
       "      <th>5</th>\n",
       "      <td>540</td>\n",
       "      <td>gate_40</td>\n",
       "      <td>187</td>\n",
       "      <td>True</td>\n",
       "      <td>True</td>\n",
       "    </tr>\n",
       "    <tr>\n",
       "      <th>9</th>\n",
       "      <td>1587</td>\n",
       "      <td>gate_40</td>\n",
       "      <td>153</td>\n",
       "      <td>True</td>\n",
       "      <td>False</td>\n",
       "    </tr>\n",
       "    <tr>\n",
       "      <th>14</th>\n",
       "      <td>2218</td>\n",
       "      <td>gate_30</td>\n",
       "      <td>305</td>\n",
       "      <td>True</td>\n",
       "      <td>True</td>\n",
       "    </tr>\n",
       "    <tr>\n",
       "      <th>...</th>\n",
       "      <td>...</td>\n",
       "      <td>...</td>\n",
       "      <td>...</td>\n",
       "      <td>...</td>\n",
       "      <td>...</td>\n",
       "    </tr>\n",
       "    <tr>\n",
       "      <th>90121</th>\n",
       "      <td>9991145</td>\n",
       "      <td>gate_30</td>\n",
       "      <td>328</td>\n",
       "      <td>True</td>\n",
       "      <td>True</td>\n",
       "    </tr>\n",
       "    <tr>\n",
       "      <th>90125</th>\n",
       "      <td>9991408</td>\n",
       "      <td>gate_40</td>\n",
       "      <td>186</td>\n",
       "      <td>True</td>\n",
       "      <td>True</td>\n",
       "    </tr>\n",
       "    <tr>\n",
       "      <th>90134</th>\n",
       "      <td>9991949</td>\n",
       "      <td>gate_30</td>\n",
       "      <td>191</td>\n",
       "      <td>True</td>\n",
       "      <td>True</td>\n",
       "    </tr>\n",
       "    <tr>\n",
       "      <th>90150</th>\n",
       "      <td>9995412</td>\n",
       "      <td>gate_40</td>\n",
       "      <td>253</td>\n",
       "      <td>True</td>\n",
       "      <td>True</td>\n",
       "    </tr>\n",
       "    <tr>\n",
       "      <th>90160</th>\n",
       "      <td>9996269</td>\n",
       "      <td>gate_30</td>\n",
       "      <td>143</td>\n",
       "      <td>False</td>\n",
       "      <td>False</td>\n",
       "    </tr>\n",
       "  </tbody>\n",
       "</table>\n",
       "<p>10177 rows × 5 columns</p>\n",
       "</div>"
      ],
      "text/plain": [
       "        userid  version  sum_gamerounds  retention_1  retention_7\n",
       "2          377  gate_40             165         True        False\n",
       "4          488  gate_40             179         True         True\n",
       "5          540  gate_40             187         True         True\n",
       "9         1587  gate_40             153         True        False\n",
       "14        2218  gate_30             305         True         True\n",
       "...        ...      ...             ...          ...          ...\n",
       "90121  9991145  gate_30             328         True         True\n",
       "90125  9991408  gate_40             186         True         True\n",
       "90134  9991949  gate_30             191         True         True\n",
       "90150  9995412  gate_40             253         True         True\n",
       "90160  9996269  gate_30             143        False        False\n",
       "\n",
       "[10177 rows x 5 columns]"
      ]
     },
     "execution_count": 9,
     "metadata": {},
     "output_type": "execute_result"
    }
   ],
   "source": [
    "df[(df['sum_gamerounds']>upper_limit)|(df['sum_gamerounds']<lower_limit)]"
   ]
  },
  {
   "cell_type": "code",
   "execution_count": 10,
   "metadata": {},
   "outputs": [],
   "source": [
    "def triming(df, column,upper_limit,lower_limit):\n",
    "    new_df = df[(df[column] < upper_limit)&(df[column] > lower_limit)]\n",
    "    return new_df\n",
    "def capping(df, column,upper_limit,lower_limit):\n",
    "    new_df = np.where(df[column]>upper_limit, upper_limit,\n",
    "    np.where(df[column]<lower_limit, lower_limit, df[column]))\n",
    "    return new_df"
   ]
  },
  {
   "cell_type": "markdown",
   "metadata": {},
   "source": [
    "If apply iqr based filtering, 10173 record will be trimed or capped. Not suitable for this situation. \n",
    "\n",
    "Remove the extreme value. "
   ]
  },
  {
   "cell_type": "code",
   "execution_count": 11,
   "metadata": {},
   "outputs": [
    {
     "data": {
      "text/plain": [
       "Text(0.5, 1.0, 'game rounds before remove extreme value')"
      ]
     },
     "execution_count": 11,
     "metadata": {},
     "output_type": "execute_result"
    },
    {
     "data": {
      "image/png": "[encoded data removed]",
      "text/plain": [
       "<Figure size 432x288 with 1 Axes>"
      ]
     },
     "metadata": {
      "needs_background": "light"
     },
     "output_type": "display_data"
    }
   ],
   "source": [
    "df[df['version']=='gate_30']['sum_gamerounds'].plot(c='r')\n",
    "df[df['version']=='gate_40']['sum_gamerounds'].plot(c='b')\n",
    "\n",
    "plt.title('game rounds before remove extreme value')"
   ]
  },
  {
   "cell_type": "code",
   "execution_count": 12,
   "metadata": {},
   "outputs": [
    {
     "name": "stdout",
     "output_type": "stream",
     "text": [
      "sum_gamerounds\n",
      "0       3994\n",
      "1       5538\n",
      "2       4606\n",
      "3       3958\n",
      "4       3629\n",
      "        ... \n",
      "2251       1\n",
      "2294       1\n",
      "2438       1\n",
      "2640       1\n",
      "2961       1\n",
      "Name: userid, Length: 941, dtype: int64\n"
     ]
    },
    {
     "name": "stderr",
     "output_type": "stream",
     "text": [
      "C:\\Users\\xurui\\Anaconda3\\lib\\site-packages\\seaborn\\_decorators.py:36: FutureWarning: Pass the following variable as a keyword arg: x. From version 0.12, the only valid positional argument will be `data`, and passing other arguments without an explicit keyword will result in an error or misinterpretation.\n",
      "  warnings.warn(\n"
     ]
    },
    {
     "data": {
      "text/plain": [
       "<AxesSubplot:xlabel='sum_gamerounds'>"
      ]
     },
     "execution_count": 12,
     "metadata": {},
     "output_type": "execute_result"
    },
    {
     "data": {
      "image/png": "[encoded data removed]",
      "text/plain": [
       "<Figure size 432x288 with 1 Axes>"
      ]
     },
     "metadata": {
      "needs_background": "light"
     },
     "output_type": "display_data"
    }
   ],
   "source": [
    "# remove outlier - the maximum value\n",
    "df = df[df['sum_gamerounds'] < max(df['sum_gamerounds'])]\n",
    "print(df.groupby(['sum_gamerounds'])['userid'].count())\n",
    "sns.boxplot(df['sum_gamerounds'])"
   ]
  },
  {
   "cell_type": "code",
   "execution_count": 13,
   "metadata": {},
   "outputs": [
    {
     "data": {
      "text/plain": [
       "Text(0.5, 1.0, 'game rounds before remove extreme value')"
      ]
     },
     "execution_count": 13,
     "metadata": {},
     "output_type": "execute_result"
    },
    {
     "data": {
      "image/png": "[encoded data removed]",
      "text/plain": [
       "<Figure size 432x288 with 1 Axes>"
      ]
     },
     "metadata": {
      "needs_background": "light"
     },
     "output_type": "display_data"
    }
   ],
   "source": [
    "df[df['version']=='gate_30']['sum_gamerounds'].plot(c='r')\n",
    "df[df['version']=='gate_40']['sum_gamerounds'].plot(c='b')\n",
    "\n",
    "plt.title('game rounds before remove extreme value')"
   ]
  },
  {
   "cell_type": "code",
   "execution_count": 14,
   "metadata": {},
   "outputs": [
    {
     "name": "stdout",
     "output_type": "stream",
     "text": [
      "Group ['gate_30' 'gate_40'] have [44699 45489] samples, respectively.\n"
     ]
    },
    {
     "data": {
      "text/html": [
       "<div>\n",
       "<style scoped>\n",
       "    .dataframe tbody tr th:only-of-type {\n",
       "        vertical-align: middle;\n",
       "    }\n",
       "\n",
       "    .dataframe tbody tr th {\n",
       "        vertical-align: top;\n",
       "    }\n",
       "\n",
       "    .dataframe thead th {\n",
       "        text-align: right;\n",
       "    }\n",
       "</style>\n",
       "<table border=\"1\" class=\"dataframe\">\n",
       "  <thead>\n",
       "    <tr style=\"text-align: right;\">\n",
       "      <th></th>\n",
       "      <th>sum_gamerounds</th>\n",
       "      <th>retention_1</th>\n",
       "      <th>retention_7</th>\n",
       "    </tr>\n",
       "    <tr>\n",
       "      <th>version</th>\n",
       "      <th></th>\n",
       "      <th></th>\n",
       "      <th></th>\n",
       "    </tr>\n",
       "  </thead>\n",
       "  <tbody>\n",
       "    <tr>\n",
       "      <th>gate_30</th>\n",
       "      <td>51.342111</td>\n",
       "      <td>0.448198</td>\n",
       "      <td>0.190183</td>\n",
       "    </tr>\n",
       "    <tr>\n",
       "      <th>gate_40</th>\n",
       "      <td>51.298776</td>\n",
       "      <td>0.442283</td>\n",
       "      <td>0.182000</td>\n",
       "    </tr>\n",
       "  </tbody>\n",
       "</table>\n",
       "</div>"
      ],
      "text/plain": [
       "         sum_gamerounds  retention_1  retention_7\n",
       "version                                          \n",
       "gate_30       51.342111     0.448198     0.190183\n",
       "gate_40       51.298776     0.442283     0.182000"
      ]
     },
     "execution_count": 14,
     "metadata": {},
     "output_type": "execute_result"
    }
   ],
   "source": [
    "# group info\n",
    "groups = df.groupby('version').count().index.values\n",
    "n_groups = df.groupby('version')['userid'].count().values\n",
    "print('Group {0} have {1} samples, respectively.'.format(groups, n_groups))\n",
    "df.groupby('version')[['sum_gamerounds','retention_1','retention_7']].mean()"
   ]
  },
  {
   "cell_type": "code",
   "execution_count": 15,
   "metadata": {},
   "outputs": [
    {
     "data": {
      "text/plain": [
       "sum_gamerounds    51.320253\n",
       "retention_1        0.445214\n",
       "retention_7        0.186056\n",
       "dtype: float64"
      ]
     },
     "execution_count": 15,
     "metadata": {},
     "output_type": "execute_result"
    }
   ],
   "source": [
    "df[['sum_gamerounds','retention_1','retention_7']].mean()"
   ]
  },
  {
   "cell_type": "code",
   "execution_count": 16,
   "metadata": {},
   "outputs": [
    {
     "data": {
      "text/html": [
       "<div>\n",
       "<style scoped>\n",
       "    .dataframe tbody tr th:only-of-type {\n",
       "        vertical-align: middle;\n",
       "    }\n",
       "\n",
       "    .dataframe tbody tr th {\n",
       "        vertical-align: top;\n",
       "    }\n",
       "\n",
       "    .dataframe thead th {\n",
       "        text-align: right;\n",
       "    }\n",
       "</style>\n",
       "<table border=\"1\" class=\"dataframe\">\n",
       "  <thead>\n",
       "    <tr style=\"text-align: right;\">\n",
       "      <th></th>\n",
       "      <th>&lt;lambda_0&gt;</th>\n",
       "      <th>count</th>\n",
       "      <th>median</th>\n",
       "      <th>mean</th>\n",
       "      <th>std</th>\n",
       "      <th>max</th>\n",
       "    </tr>\n",
       "    <tr>\n",
       "      <th>version</th>\n",
       "      <th></th>\n",
       "      <th></th>\n",
       "      <th></th>\n",
       "      <th></th>\n",
       "      <th></th>\n",
       "      <th></th>\n",
       "    </tr>\n",
       "  </thead>\n",
       "  <tbody>\n",
       "    <tr>\n",
       "      <th>gate_30</th>\n",
       "      <td>49.56 %</td>\n",
       "      <td>44699</td>\n",
       "      <td>17</td>\n",
       "      <td>51.342111</td>\n",
       "      <td>102.057598</td>\n",
       "      <td>2961</td>\n",
       "    </tr>\n",
       "    <tr>\n",
       "      <th>gate_40</th>\n",
       "      <td>50.44 %</td>\n",
       "      <td>45489</td>\n",
       "      <td>16</td>\n",
       "      <td>51.298776</td>\n",
       "      <td>103.294416</td>\n",
       "      <td>2640</td>\n",
       "    </tr>\n",
       "  </tbody>\n",
       "</table>\n",
       "</div>"
      ],
      "text/plain": [
       "        <lambda_0>  count  median       mean         std   max\n",
       "version                                                       \n",
       "gate_30    49.56 %  44699      17  51.342111  102.057598  2961\n",
       "gate_40    50.44 %  45489      16  51.298776  103.294416  2640"
      ]
     },
     "execution_count": 16,
     "metadata": {},
     "output_type": "execute_result"
    }
   ],
   "source": [
    "df.groupby(\"version\").sum_gamerounds.agg([lambda x: str(round(x.count()/len(df)*100,2))+' %','count', \"median\", \"mean\", \"std\", \"max\"])"
   ]
  },
  {
   "cell_type": "markdown",
   "metadata": {},
   "source": [
    "We assume that the sample size of control and test group are the same.  50/50 split for two groups.\n",
    "\n",
    "The sample size of two groups are roughly the same.\n"
   ]
  },
  {
   "cell_type": "code",
   "execution_count": 17,
   "metadata": {},
   "outputs": [
    {
     "data": {
      "image/png": "[encoded data removed]",
      "text/plain": [
       "<Figure size 432x288 with 1 Axes>"
      ]
     },
     "metadata": {
      "needs_background": "light"
     },
     "output_type": "display_data"
    },
    {
     "data": {
      "image/png": "[encoded data removed]",
      "text/plain": [
       "<Figure size 432x288 with 1 Axes>"
      ]
     },
     "metadata": {
      "needs_background": "light"
     },
     "output_type": "display_data"
    }
   ],
   "source": [
    "# visuallization\n",
    "sns.boxplot(x=df['sum_gamerounds'], y=df['version'], hue=df['retention_1'], showfliers=False)\n",
    "plt.title('Game rounds of 1 day retention and groups')\n",
    "plt.show()\n",
    "sns.boxplot(x=df['sum_gamerounds'], y=df['version'], hue=df['retention_7'], showfliers=False)\n",
    "plt.title('Game rounds of 7 day retention and groups')\n",
    "plt.show()"
   ]
  },
  {
   "cell_type": "code",
   "execution_count": 18,
   "metadata": {},
   "outputs": [
    {
     "data": {
      "image/png": "[encoded data removed]",
      "text/plain": [
       "<Figure size 432x288 with 1 Axes>"
      ]
     },
     "metadata": {
      "needs_background": "light"
     },
     "output_type": "display_data"
    }
   ],
   "source": [
    "df.groupby(['sum_gamerounds'])['userid'].count()[:100].plot(c='black', label='overall')\n",
    "plt.plot(df[df['retention_1']==True].groupby(['sum_gamerounds'])['userid'].count()[:100], c='r', label='stay after 1 d')\n",
    "plt.plot(df[df['retention_1']==False].groupby(['sum_gamerounds'])['userid'].count()[:100], c='b', label='leave after 1 d')\n",
    "plt.legend()\n",
    "plt.title(\"The number of players that played 0-100 game rounds during the first week\")\n",
    "plt.ylabel(\"Number of Players\")\n",
    "plt.xlabel('# Game rounds')\n",
    "plt.show()"
   ]
  },
  {
   "cell_type": "code",
   "execution_count": 19,
   "metadata": {},
   "outputs": [
    {
     "data": {
      "image/png": "[encoded data removed]",
      "text/plain": [
       "<Figure size 432x288 with 1 Axes>"
      ]
     },
     "metadata": {
      "needs_background": "light"
     },
     "output_type": "display_data"
    }
   ],
   "source": [
    "df.groupby(['sum_gamerounds'])['userid'].count()[:100].plot(c='black', label='overall')\n",
    "plt.plot(df[df['retention_7']==True].groupby(['sum_gamerounds'])['userid'].count()[:100], c='y', label='stay after 7 d')\n",
    "plt.plot(df[df['retention_7']==False].groupby(['sum_gamerounds'])['userid'].count()[:100], c='skyblue', label='leave after 7 d')\n",
    "plt.legend()\n",
    "plt.title(\"The number of players that played 0-100 game rounds during the first week\")\n",
    "plt.ylabel(\"Number of Players\")\n",
    "plt.xlabel('# Game rounds')\n",
    "plt.show()"
   ]
  },
  {
   "cell_type": "code",
   "execution_count": 20,
   "metadata": {},
   "outputs": [
    {
     "data": {
      "image/png": "[encoded data removed]",
      "text/plain": [
       "<Figure size 432x288 with 1 Axes>"
      ]
     },
     "metadata": {
      "needs_background": "light"
     },
     "output_type": "display_data"
    }
   ],
   "source": [
    "plt.plot(df[(df['version']=='gate_30')].groupby(['sum_gamerounds'])['userid'].count()[:100], c='r', label='gate_30')\n",
    "plt.plot(df[(df['version']=='gate_40')].groupby(['sum_gamerounds'])['userid'].count()[:100], c='b', label='gate_40')\n",
    "plt.legend()\n",
    "plt.title(\"The number of players that played 0-100 game rounds during the first week\")\n",
    "plt.ylabel(\"Number of Players\")\n",
    "plt.xlabel('# Game rounds')\n",
    "plt.show()"
   ]
  },
  {
   "cell_type": "code",
   "execution_count": 21,
   "metadata": {},
   "outputs": [
    {
     "data": {
      "image/png": "[encoded data removed]",
      "text/plain": [
       "<Figure size 432x288 with 1 Axes>"
      ]
     },
     "metadata": {
      "needs_background": "light"
     },
     "output_type": "display_data"
    }
   ],
   "source": [
    "plt.plot(df[(df['version']=='gate_30')&(df['retention_1']==True)].groupby(['sum_gamerounds'])['userid'].count()[:100], c='r', label='gate_30: stay after 1 d')\n",
    "plt.plot(df[(df['version']=='gate_40')&(df['retention_1']==True)].groupby(['sum_gamerounds'])['userid'].count()[:100], c='b', label='gate_40: stay after 1 d')\n",
    "plt.plot(df[(df['version']=='gate_30')&(df['retention_7']==False)].groupby(['sum_gamerounds'])['userid'].count()[:100], c='tomato', label='gate_30: leave after 7 d')\n",
    "plt.plot(df[(df['version']=='gate_40')&(df['retention_7']==False)].groupby(['sum_gamerounds'])['userid'].count()[:100], c='skyblue', label='gate_40: leave after 7 d')\n",
    "plt.legend()\n",
    "plt.title(\"The number of players that played 0-100 game rounds during the first week\")\n",
    "plt.ylabel(\"Number of Players\")\n",
    "plt.xlabel('# Game rounds')\n",
    "plt.show()"
   ]
  },
  {
   "cell_type": "code",
   "execution_count": 22,
   "metadata": {},
   "outputs": [
    {
     "data": {
      "text/html": [
       "<div>\n",
       "<style scoped>\n",
       "    .dataframe tbody tr th:only-of-type {\n",
       "        vertical-align: middle;\n",
       "    }\n",
       "\n",
       "    .dataframe tbody tr th {\n",
       "        vertical-align: top;\n",
       "    }\n",
       "\n",
       "    .dataframe thead th {\n",
       "        text-align: right;\n",
       "    }\n",
       "</style>\n",
       "<table border=\"1\" class=\"dataframe\">\n",
       "  <thead>\n",
       "    <tr style=\"text-align: right;\">\n",
       "      <th></th>\n",
       "      <th></th>\n",
       "      <th></th>\n",
       "      <th>count</th>\n",
       "      <th>min</th>\n",
       "      <th>median</th>\n",
       "      <th>mean</th>\n",
       "      <th>std</th>\n",
       "      <th>max</th>\n",
       "    </tr>\n",
       "    <tr>\n",
       "      <th>version</th>\n",
       "      <th>retention_1</th>\n",
       "      <th>retention_7</th>\n",
       "      <th></th>\n",
       "      <th></th>\n",
       "      <th></th>\n",
       "      <th></th>\n",
       "      <th></th>\n",
       "      <th></th>\n",
       "    </tr>\n",
       "  </thead>\n",
       "  <tbody>\n",
       "    <tr>\n",
       "      <th rowspan=\"4\" valign=\"top\">gate_30</th>\n",
       "      <th rowspan=\"2\" valign=\"top\">False</th>\n",
       "      <th>False</th>\n",
       "      <td>22840</td>\n",
       "      <td>0</td>\n",
       "      <td>6</td>\n",
       "      <td>11.819746</td>\n",
       "      <td>21.642643</td>\n",
       "      <td>981</td>\n",
       "    </tr>\n",
       "    <tr>\n",
       "      <th>True</th>\n",
       "      <td>1825</td>\n",
       "      <td>0</td>\n",
       "      <td>43</td>\n",
       "      <td>73.169315</td>\n",
       "      <td>93.222330</td>\n",
       "      <td>1072</td>\n",
       "    </tr>\n",
       "    <tr>\n",
       "      <th rowspan=\"2\" valign=\"top\">True</th>\n",
       "      <th>False</th>\n",
       "      <td>13358</td>\n",
       "      <td>0</td>\n",
       "      <td>33</td>\n",
       "      <td>49.694490</td>\n",
       "      <td>58.125396</td>\n",
       "      <td>918</td>\n",
       "    </tr>\n",
       "    <tr>\n",
       "      <th>True</th>\n",
       "      <td>6676</td>\n",
       "      <td>0</td>\n",
       "      <td>127</td>\n",
       "      <td>183.886309</td>\n",
       "      <td>189.626390</td>\n",
       "      <td>2961</td>\n",
       "    </tr>\n",
       "    <tr>\n",
       "      <th rowspan=\"4\" valign=\"top\">gate_40</th>\n",
       "      <th rowspan=\"2\" valign=\"top\">False</th>\n",
       "      <th>False</th>\n",
       "      <td>23597</td>\n",
       "      <td>0</td>\n",
       "      <td>6</td>\n",
       "      <td>11.913294</td>\n",
       "      <td>20.901020</td>\n",
       "      <td>547</td>\n",
       "    </tr>\n",
       "    <tr>\n",
       "      <th>True</th>\n",
       "      <td>1773</td>\n",
       "      <td>0</td>\n",
       "      <td>47</td>\n",
       "      <td>75.261139</td>\n",
       "      <td>94.478048</td>\n",
       "      <td>1241</td>\n",
       "    </tr>\n",
       "    <tr>\n",
       "      <th rowspan=\"2\" valign=\"top\">True</th>\n",
       "      <th>False</th>\n",
       "      <td>13613</td>\n",
       "      <td>0</td>\n",
       "      <td>32</td>\n",
       "      <td>50.025490</td>\n",
       "      <td>60.924587</td>\n",
       "      <td>2640</td>\n",
       "    </tr>\n",
       "    <tr>\n",
       "      <th>True</th>\n",
       "      <td>6506</td>\n",
       "      <td>0</td>\n",
       "      <td>133</td>\n",
       "      <td>190.282355</td>\n",
       "      <td>194.220077</td>\n",
       "      <td>2294</td>\n",
       "    </tr>\n",
       "  </tbody>\n",
       "</table>\n",
       "</div>"
      ],
      "text/plain": [
       "                                 count  min  median        mean         std  \\\n",
       "version retention_1 retention_7                                               \n",
       "gate_30 False       False        22840    0       6   11.819746   21.642643   \n",
       "                    True          1825    0      43   73.169315   93.222330   \n",
       "        True        False        13358    0      33   49.694490   58.125396   \n",
       "                    True          6676    0     127  183.886309  189.626390   \n",
       "gate_40 False       False        23597    0       6   11.913294   20.901020   \n",
       "                    True          1773    0      47   75.261139   94.478048   \n",
       "        True        False        13613    0      32   50.025490   60.924587   \n",
       "                    True          6506    0     133  190.282355  194.220077   \n",
       "\n",
       "                                  max  \n",
       "version retention_1 retention_7        \n",
       "gate_30 False       False         981  \n",
       "                    True         1072  \n",
       "        True        False         918  \n",
       "                    True         2961  \n",
       "gate_40 False       False         547  \n",
       "                    True         1241  \n",
       "        True        False        2640  \n",
       "                    True         2294  "
      ]
     },
     "execution_count": 22,
     "metadata": {},
     "output_type": "execute_result"
    }
   ],
   "source": [
    "# retention\n",
    "df.groupby(['version', 'retention_1','retention_7'])['sum_gamerounds'].agg(['count','min','median','mean', 'std', 'max'])\n"
   ]
  },
  {
   "cell_type": "code",
   "execution_count": 23,
   "metadata": {},
   "outputs": [
    {
     "data": {
      "text/html": [
       "<div>\n",
       "<style scoped>\n",
       "    .dataframe tbody tr th:only-of-type {\n",
       "        vertical-align: middle;\n",
       "    }\n",
       "\n",
       "    .dataframe tbody tr th {\n",
       "        vertical-align: top;\n",
       "    }\n",
       "\n",
       "    .dataframe thead th {\n",
       "        text-align: right;\n",
       "    }\n",
       "</style>\n",
       "<table border=\"1\" class=\"dataframe\">\n",
       "  <thead>\n",
       "    <tr style=\"text-align: right;\">\n",
       "      <th></th>\n",
       "      <th>version</th>\n",
       "      <th>NewRetention</th>\n",
       "      <th>count</th>\n",
       "      <th>min</th>\n",
       "      <th>median</th>\n",
       "      <th>mean</th>\n",
       "      <th>std</th>\n",
       "      <th>max</th>\n",
       "    </tr>\n",
       "  </thead>\n",
       "  <tbody>\n",
       "    <tr>\n",
       "      <th>0</th>\n",
       "      <td>gate_30</td>\n",
       "      <td>False-False</td>\n",
       "      <td>22840</td>\n",
       "      <td>0</td>\n",
       "      <td>6</td>\n",
       "      <td>11.819746</td>\n",
       "      <td>21.642643</td>\n",
       "      <td>981</td>\n",
       "    </tr>\n",
       "    <tr>\n",
       "      <th>1</th>\n",
       "      <td>gate_30</td>\n",
       "      <td>False-True</td>\n",
       "      <td>1825</td>\n",
       "      <td>0</td>\n",
       "      <td>43</td>\n",
       "      <td>73.169315</td>\n",
       "      <td>93.222330</td>\n",
       "      <td>1072</td>\n",
       "    </tr>\n",
       "    <tr>\n",
       "      <th>2</th>\n",
       "      <td>gate_30</td>\n",
       "      <td>True-False</td>\n",
       "      <td>13358</td>\n",
       "      <td>0</td>\n",
       "      <td>33</td>\n",
       "      <td>49.694490</td>\n",
       "      <td>58.125396</td>\n",
       "      <td>918</td>\n",
       "    </tr>\n",
       "    <tr>\n",
       "      <th>3</th>\n",
       "      <td>gate_30</td>\n",
       "      <td>True-True</td>\n",
       "      <td>6676</td>\n",
       "      <td>0</td>\n",
       "      <td>127</td>\n",
       "      <td>183.886309</td>\n",
       "      <td>189.626390</td>\n",
       "      <td>2961</td>\n",
       "    </tr>\n",
       "    <tr>\n",
       "      <th>4</th>\n",
       "      <td>gate_40</td>\n",
       "      <td>False-False</td>\n",
       "      <td>23597</td>\n",
       "      <td>0</td>\n",
       "      <td>6</td>\n",
       "      <td>11.913294</td>\n",
       "      <td>20.901020</td>\n",
       "      <td>547</td>\n",
       "    </tr>\n",
       "    <tr>\n",
       "      <th>5</th>\n",
       "      <td>gate_40</td>\n",
       "      <td>False-True</td>\n",
       "      <td>1773</td>\n",
       "      <td>0</td>\n",
       "      <td>47</td>\n",
       "      <td>75.261139</td>\n",
       "      <td>94.478048</td>\n",
       "      <td>1241</td>\n",
       "    </tr>\n",
       "    <tr>\n",
       "      <th>6</th>\n",
       "      <td>gate_40</td>\n",
       "      <td>True-False</td>\n",
       "      <td>13613</td>\n",
       "      <td>0</td>\n",
       "      <td>32</td>\n",
       "      <td>50.025490</td>\n",
       "      <td>60.924587</td>\n",
       "      <td>2640</td>\n",
       "    </tr>\n",
       "    <tr>\n",
       "      <th>7</th>\n",
       "      <td>gate_40</td>\n",
       "      <td>True-True</td>\n",
       "      <td>6506</td>\n",
       "      <td>0</td>\n",
       "      <td>133</td>\n",
       "      <td>190.282355</td>\n",
       "      <td>194.220077</td>\n",
       "      <td>2294</td>\n",
       "    </tr>\n",
       "  </tbody>\n",
       "</table>\n",
       "</div>"
      ],
      "text/plain": [
       "   version NewRetention  count  min  median        mean         std   max\n",
       "0  gate_30  False-False  22840    0       6   11.819746   21.642643   981\n",
       "1  gate_30   False-True   1825    0      43   73.169315   93.222330  1072\n",
       "2  gate_30   True-False  13358    0      33   49.694490   58.125396   918\n",
       "3  gate_30    True-True   6676    0     127  183.886309  189.626390  2961\n",
       "4  gate_40  False-False  23597    0       6   11.913294   20.901020   547\n",
       "5  gate_40   False-True   1773    0      47   75.261139   94.478048  1241\n",
       "6  gate_40   True-False  13613    0      32   50.025490   60.924587  2640\n",
       "7  gate_40    True-True   6506    0     133  190.282355  194.220077  2294"
      ]
     },
     "execution_count": 23,
     "metadata": {},
     "output_type": "execute_result"
    }
   ],
   "source": [
    "df['NewRetention'] = list(map(lambda x,y: str(x)+'-'+str(y), df.retention_1, df.retention_7))\n",
    "df.groupby(['version', 'NewRetention']).sum_gamerounds.agg(['count','min','median','mean', 'std', 'max']).reset_index()"
   ]
  },
  {
   "cell_type": "code",
   "execution_count": null,
   "metadata": {},
   "outputs": [],
   "source": []
  }
 ],
 "metadata": {
  "kernelspec": {
   "display_name": "Python 3 (ipykernel)",
   "language": "python",
   "name": "python3"
  },
  "language_info": {
   "codemirror_mode": {
    "name": "ipython",
    "version": 3
   },
   "file_extension": ".py",
   "mimetype": "text/x-python",
   "name": "python",
   "nbconvert_exporter": "python",
   "pygments_lexer": "ipython3",
   "version": "3.8.3"
  }
 },
 "nbformat": 4,
 "nbformat_minor": 4
}
