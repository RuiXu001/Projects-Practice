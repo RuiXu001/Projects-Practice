{
 "cells": [
  {
   "cell_type": "code",
   "execution_count": 98,
   "metadata": {},
   "outputs": [],
   "source": [
    "import pandas as pd\n",
    "import numpy as np\n",
    "import matplotlib.pyplot as plt\n",
    "import seaborn as sns"
   ]
  },
  {
   "cell_type": "code",
   "execution_count": 99,
   "metadata": {},
   "outputs": [],
   "source": [
    "dftest = pd.read_csv('C:/MSDA/data245/Coding/data/test.csv')\n",
    "df = pd.read_csv('C:/MSDA/data245/Coding/data/train.csv')"
   ]
  },
  {
   "cell_type": "code",
   "execution_count": 100,
   "metadata": {},
   "outputs": [
    {
     "data": {
      "text/plain": [
       "Index(['PassengerId', 'Survived', 'Pclass', 'Name', 'Sex', 'Age', 'SibSp',\n",
       "       'Parch', 'Ticket', 'Fare', 'Cabin', 'Embarked'],\n",
       "      dtype='object')"
      ]
     },
     "execution_count": 100,
     "metadata": {},
     "output_type": "execute_result"
    }
   ],
   "source": [
    "df.columns"
   ]
  },
  {
   "cell_type": "code",
   "execution_count": 101,
   "metadata": {},
   "outputs": [
    {
     "data": {
      "text/plain": [
       "PassengerId      0\n",
       "Survived         0\n",
       "Pclass           0\n",
       "Name             0\n",
       "Sex              0\n",
       "Age            177\n",
       "SibSp            0\n",
       "Parch            0\n",
       "Ticket           0\n",
       "Fare             0\n",
       "Cabin          687\n",
       "Embarked         2\n",
       "dtype: int64"
      ]
     },
     "execution_count": 101,
     "metadata": {},
     "output_type": "execute_result"
    }
   ],
   "source": [
    "df.isnull().sum()"
   ]
  },
  {
   "cell_type": "code",
   "execution_count": 102,
   "metadata": {},
   "outputs": [
    {
     "data": {
      "text/plain": [
       "342"
      ]
     },
     "execution_count": 102,
     "metadata": {},
     "output_type": "execute_result"
    }
   ],
   "source": [
    "sum(df.Survived)"
   ]
  },
  {
   "cell_type": "code",
   "execution_count": 103,
   "metadata": {},
   "outputs": [
    {
     "data": {
      "text/plain": [
       "<matplotlib.axes._subplots.AxesSubplot at 0x2c76403ab48>"
      ]
     },
     "execution_count": 103,
     "metadata": {},
     "output_type": "execute_result"
    },
    {
     "data": {
      "image/png": "[encoded data removed]",
      "text/plain": [
       "<Figure size 432x288 with 1 Axes>"
      ]
     },
     "metadata": {
      "needs_background": "light"
     },
     "output_type": "display_data"
    }
   ],
   "source": [
    "sns.boxplot(x= df.Survived, y = df.Age)"
   ]
  },
  {
   "cell_type": "code",
   "execution_count": 104,
   "metadata": {},
   "outputs": [
    {
     "data": {
      "text/plain": [
       "<matplotlib.axes._subplots.AxesSubplot at 0x2c7640d3108>"
      ]
     },
     "execution_count": 104,
     "metadata": {},
     "output_type": "execute_result"
    },
    {
     "data": {
      "image/png": "[encoded data removed]",
      "text/plain": [
       "<Figure size 432x288 with 1 Axes>"
      ]
     },
     "metadata": {
      "needs_background": "light"
     },
     "output_type": "display_data"
    }
   ],
   "source": [
    "sns.boxplot(x= df.Survived, y = df.Fare)"
   ]
  },
  {
   "cell_type": "code",
   "execution_count": 105,
   "metadata": {},
   "outputs": [],
   "source": [
    "def normalization(col):\n",
    "    min_ = min(col)\n",
    "    max_ = max(col)\n",
    "    mean = np.mean(col)\n",
    "    sd = np.std(col)\n",
    "    return [(i-mean) / sd if not sd ==0 else i-mean for i in col]\n",
    "def data_cleaning(df):\n",
    "    df['EmbarkedS'] = pd.Series(np.zeros(len(df)))\n",
    "    df['EmbarkedC'] = pd.Series(np.zeros(len(df)))\n",
    "    df['EmbarkedQ'] = pd.Series(np.zeros(len(df)))\n",
    "    df['Pclass1'] = pd.Series(np.zeros(len(df)))\n",
    "    df['Pclass2'] = pd.Series(np.zeros(len(df)))\n",
    "    df['Pclass3'] = pd.Series(np.zeros(len(df)))\n",
    "    df['Sexf'] = pd.Series(np.zeros(len(df)))\n",
    "    df['Sexm'] = pd.Series(np.zeros(len(df)))\n",
    "    print(df.columns)\n",
    "    for i in range(len(df)):\n",
    "        if df.Embarked[i] == 'S':\n",
    "            df.EmbarkedS[i] = 1\n",
    "        elif df.Embarked[i] == 'C':\n",
    "            df.EmbarkedC[i] = 1\n",
    "        elif df.Embarked[i] == 'Q':\n",
    "            df.EmbarkedQ[i] = 1        \n",
    "    for i in range(len(df)):\n",
    "        if df.Pclass[i] == 1:\n",
    "            df.Pclass1[i] = 1\n",
    "        elif df.Pclass[i] == 2:\n",
    "            df.Pclass2[i] = 1\n",
    "        elif df.Pclass[i] == 3:\n",
    "            df.Pclass3[i] = 1\n",
    "    for i in range(len(df)):\n",
    "        if df.Sex[i] == 'female':\n",
    "            df.Sexf[i] = 1\n",
    "        elif df.Sex[i] == 'male':\n",
    "            df.Sexm[i] = 1\n",
    "    df.drop(columns=['PassengerId','Name','Ticket','Cabin', 'Embarked', 'Pclass', 'Sex'], inplace = True) # drop Cabin ?\n",
    "    try:\n",
    "        df = df[['Age', 'SibSp', 'Parch', 'Fare', 'EmbarkedS', 'EmbarkedC', 'EmbarkedQ',\n",
    "                 'Pclass1', 'Pclass2', 'Pclass3', 'Sexf', 'Sexm', 'Survived']]\n",
    "    except:\n",
    "        pass\n",
    "    df = df.fillna(0)\n",
    "    col = df.columns\n",
    "    for i in col[:-8]:\n",
    "        df[i] = normalization(df[i])\n",
    "    return df \n",
    "\n",
    "df = data_cleaning(df)\n",
    "df.describe()\n",
    "\n",
    "sns.heatmap(df.corr())\n",
    "# to find the relationship between features. "
   ]
  },
  {
   "cell_type": "code",
   "execution_count": 107,
   "metadata": {},
   "outputs": [
    {
     "data": {
      "text/html": [
       "<div>\n",
       "<style scoped>\n",
       "    .dataframe tbody tr th:only-of-type {\n",
       "        vertical-align: middle;\n",
       "    }\n",
       "\n",
       "    .dataframe tbody tr th {\n",
       "        vertical-align: top;\n",
       "    }\n",
       "\n",
       "    .dataframe thead th {\n",
       "        text-align: right;\n",
       "    }\n",
       "</style>\n",
       "<table border=\"1\" class=\"dataframe\">\n",
       "  <thead>\n",
       "    <tr style=\"text-align: right;\">\n",
       "      <th></th>\n",
       "      <th>Age</th>\n",
       "      <th>SibSp</th>\n",
       "      <th>Parch</th>\n",
       "      <th>Fare</th>\n",
       "      <th>EmbarkedS</th>\n",
       "      <th>EmbarkedC</th>\n",
       "      <th>EmbarkedQ</th>\n",
       "      <th>Pclass1</th>\n",
       "      <th>Pclass2</th>\n",
       "      <th>Pclass3</th>\n",
       "      <th>Sexf</th>\n",
       "      <th>Sexm</th>\n",
       "      <th>Survived</th>\n",
       "    </tr>\n",
       "  </thead>\n",
       "  <tbody>\n",
       "    <tr>\n",
       "      <th>Age</th>\n",
       "      <td>1.000000</td>\n",
       "      <td>-0.184664</td>\n",
       "      <td>-0.048786</td>\n",
       "      <td>0.135516</td>\n",
       "      <td>0.140578</td>\n",
       "      <td>0.001246</td>\n",
       "      <td>-0.237586</td>\n",
       "      <td>0.293485</td>\n",
       "      <td>0.124510</td>\n",
       "      <td>-0.354201</td>\n",
       "      <td>-0.024978</td>\n",
       "      <td>0.024978</td>\n",
       "      <td>0.010539</td>\n",
       "    </tr>\n",
       "    <tr>\n",
       "      <th>SibSp</th>\n",
       "      <td>-0.184664</td>\n",
       "      <td>1.000000</td>\n",
       "      <td>0.414838</td>\n",
       "      <td>0.159651</td>\n",
       "      <td>0.070941</td>\n",
       "      <td>-0.059528</td>\n",
       "      <td>-0.026354</td>\n",
       "      <td>-0.054582</td>\n",
       "      <td>-0.055932</td>\n",
       "      <td>0.092548</td>\n",
       "      <td>0.114631</td>\n",
       "      <td>-0.114631</td>\n",
       "      <td>-0.035322</td>\n",
       "    </tr>\n",
       "    <tr>\n",
       "      <th>Parch</th>\n",
       "      <td>-0.048786</td>\n",
       "      <td>0.414838</td>\n",
       "      <td>1.000000</td>\n",
       "      <td>0.216225</td>\n",
       "      <td>0.063036</td>\n",
       "      <td>-0.011069</td>\n",
       "      <td>-0.081228</td>\n",
       "      <td>-0.017633</td>\n",
       "      <td>-0.000734</td>\n",
       "      <td>0.015790</td>\n",
       "      <td>0.245489</td>\n",
       "      <td>-0.245489</td>\n",
       "      <td>0.081629</td>\n",
       "    </tr>\n",
       "    <tr>\n",
       "      <th>Fare</th>\n",
       "      <td>0.135516</td>\n",
       "      <td>0.159651</td>\n",
       "      <td>0.216225</td>\n",
       "      <td>1.000000</td>\n",
       "      <td>-0.166603</td>\n",
       "      <td>0.269335</td>\n",
       "      <td>-0.117216</td>\n",
       "      <td>0.591711</td>\n",
       "      <td>-0.118557</td>\n",
       "      <td>-0.413333</td>\n",
       "      <td>0.182333</td>\n",
       "      <td>-0.182333</td>\n",
       "      <td>0.257307</td>\n",
       "    </tr>\n",
       "    <tr>\n",
       "      <th>EmbarkedS</th>\n",
       "      <td>0.140578</td>\n",
       "      <td>0.070941</td>\n",
       "      <td>0.063036</td>\n",
       "      <td>-0.166603</td>\n",
       "      <td>1.000000</td>\n",
       "      <td>-0.778359</td>\n",
       "      <td>-0.496624</td>\n",
       "      <td>-0.170379</td>\n",
       "      <td>0.192061</td>\n",
       "      <td>-0.009511</td>\n",
       "      <td>-0.125722</td>\n",
       "      <td>0.125722</td>\n",
       "      <td>-0.155660</td>\n",
       "    </tr>\n",
       "    <tr>\n",
       "      <th>EmbarkedC</th>\n",
       "      <td>0.001246</td>\n",
       "      <td>-0.059528</td>\n",
       "      <td>-0.011069</td>\n",
       "      <td>0.269335</td>\n",
       "      <td>-0.778359</td>\n",
       "      <td>1.000000</td>\n",
       "      <td>-0.148258</td>\n",
       "      <td>0.296423</td>\n",
       "      <td>-0.125416</td>\n",
       "      <td>-0.153329</td>\n",
       "      <td>0.082853</td>\n",
       "      <td>-0.082853</td>\n",
       "      <td>0.168240</td>\n",
       "    </tr>\n",
       "    <tr>\n",
       "      <th>EmbarkedQ</th>\n",
       "      <td>-0.237586</td>\n",
       "      <td>-0.026354</td>\n",
       "      <td>-0.081228</td>\n",
       "      <td>-0.117216</td>\n",
       "      <td>-0.496624</td>\n",
       "      <td>-0.148258</td>\n",
       "      <td>1.000000</td>\n",
       "      <td>-0.155342</td>\n",
       "      <td>-0.127301</td>\n",
       "      <td>0.237449</td>\n",
       "      <td>0.074115</td>\n",
       "      <td>-0.074115</td>\n",
       "      <td>0.003650</td>\n",
       "    </tr>\n",
       "    <tr>\n",
       "      <th>Pclass1</th>\n",
       "      <td>0.293485</td>\n",
       "      <td>-0.054582</td>\n",
       "      <td>-0.017633</td>\n",
       "      <td>0.591711</td>\n",
       "      <td>-0.170379</td>\n",
       "      <td>0.296423</td>\n",
       "      <td>-0.155342</td>\n",
       "      <td>1.000000</td>\n",
       "      <td>-0.288585</td>\n",
       "      <td>-0.626738</td>\n",
       "      <td>0.098013</td>\n",
       "      <td>-0.098013</td>\n",
       "      <td>0.285904</td>\n",
       "    </tr>\n",
       "    <tr>\n",
       "      <th>Pclass2</th>\n",
       "      <td>0.124510</td>\n",
       "      <td>-0.055932</td>\n",
       "      <td>-0.000734</td>\n",
       "      <td>-0.118557</td>\n",
       "      <td>0.192061</td>\n",
       "      <td>-0.125416</td>\n",
       "      <td>-0.127301</td>\n",
       "      <td>-0.288585</td>\n",
       "      <td>1.000000</td>\n",
       "      <td>-0.565210</td>\n",
       "      <td>0.064746</td>\n",
       "      <td>-0.064746</td>\n",
       "      <td>0.093349</td>\n",
       "    </tr>\n",
       "    <tr>\n",
       "      <th>Pclass3</th>\n",
       "      <td>-0.354201</td>\n",
       "      <td>0.092548</td>\n",
       "      <td>0.015790</td>\n",
       "      <td>-0.413333</td>\n",
       "      <td>-0.009511</td>\n",
       "      <td>-0.153329</td>\n",
       "      <td>0.237449</td>\n",
       "      <td>-0.626738</td>\n",
       "      <td>-0.565210</td>\n",
       "      <td>1.000000</td>\n",
       "      <td>-0.137143</td>\n",
       "      <td>0.137143</td>\n",
       "      <td>-0.322308</td>\n",
       "    </tr>\n",
       "    <tr>\n",
       "      <th>Sexf</th>\n",
       "      <td>-0.024978</td>\n",
       "      <td>0.114631</td>\n",
       "      <td>0.245489</td>\n",
       "      <td>0.182333</td>\n",
       "      <td>-0.125722</td>\n",
       "      <td>0.082853</td>\n",
       "      <td>0.074115</td>\n",
       "      <td>0.098013</td>\n",
       "      <td>0.064746</td>\n",
       "      <td>-0.137143</td>\n",
       "      <td>1.000000</td>\n",
       "      <td>-1.000000</td>\n",
       "      <td>0.543351</td>\n",
       "    </tr>\n",
       "    <tr>\n",
       "      <th>Sexm</th>\n",
       "      <td>0.024978</td>\n",
       "      <td>-0.114631</td>\n",
       "      <td>-0.245489</td>\n",
       "      <td>-0.182333</td>\n",
       "      <td>0.125722</td>\n",
       "      <td>-0.082853</td>\n",
       "      <td>-0.074115</td>\n",
       "      <td>-0.098013</td>\n",
       "      <td>-0.064746</td>\n",
       "      <td>0.137143</td>\n",
       "      <td>-1.000000</td>\n",
       "      <td>1.000000</td>\n",
       "      <td>-0.543351</td>\n",
       "    </tr>\n",
       "    <tr>\n",
       "      <th>Survived</th>\n",
       "      <td>0.010539</td>\n",
       "      <td>-0.035322</td>\n",
       "      <td>0.081629</td>\n",
       "      <td>0.257307</td>\n",
       "      <td>-0.155660</td>\n",
       "      <td>0.168240</td>\n",
       "      <td>0.003650</td>\n",
       "      <td>0.285904</td>\n",
       "      <td>0.093349</td>\n",
       "      <td>-0.322308</td>\n",
       "      <td>0.543351</td>\n",
       "      <td>-0.543351</td>\n",
       "      <td>1.000000</td>\n",
       "    </tr>\n",
       "  </tbody>\n",
       "</table>\n",
       "</div>"
      ],
      "text/plain": [
       "                Age     SibSp     Parch      Fare  EmbarkedS  EmbarkedC  \\\n",
       "Age        1.000000 -0.184664 -0.048786  0.135516   0.140578   0.001246   \n",
       "SibSp     -0.184664  1.000000  0.414838  0.159651   0.070941  -0.059528   \n",
       "Parch     -0.048786  0.414838  1.000000  0.216225   0.063036  -0.011069   \n",
       "Fare       0.135516  0.159651  0.216225  1.000000  -0.166603   0.269335   \n",
       "EmbarkedS  0.140578  0.070941  0.063036 -0.166603   1.000000  -0.778359   \n",
       "EmbarkedC  0.001246 -0.059528 -0.011069  0.269335  -0.778359   1.000000   \n",
       "EmbarkedQ -0.237586 -0.026354 -0.081228 -0.117216  -0.496624  -0.148258   \n",
       "Pclass1    0.293485 -0.054582 -0.017633  0.591711  -0.170379   0.296423   \n",
       "Pclass2    0.124510 -0.055932 -0.000734 -0.118557   0.192061  -0.125416   \n",
       "Pclass3   -0.354201  0.092548  0.015790 -0.413333  -0.009511  -0.153329   \n",
       "Sexf      -0.024978  0.114631  0.245489  0.182333  -0.125722   0.082853   \n",
       "Sexm       0.024978 -0.114631 -0.245489 -0.182333   0.125722  -0.082853   \n",
       "Survived   0.010539 -0.035322  0.081629  0.257307  -0.155660   0.168240   \n",
       "\n",
       "           EmbarkedQ   Pclass1   Pclass2   Pclass3      Sexf      Sexm  \\\n",
       "Age        -0.237586  0.293485  0.124510 -0.354201 -0.024978  0.024978   \n",
       "SibSp      -0.026354 -0.054582 -0.055932  0.092548  0.114631 -0.114631   \n",
       "Parch      -0.081228 -0.017633 -0.000734  0.015790  0.245489 -0.245489   \n",
       "Fare       -0.117216  0.591711 -0.118557 -0.413333  0.182333 -0.182333   \n",
       "EmbarkedS  -0.496624 -0.170379  0.192061 -0.009511 -0.125722  0.125722   \n",
       "EmbarkedC  -0.148258  0.296423 -0.125416 -0.153329  0.082853 -0.082853   \n",
       "EmbarkedQ   1.000000 -0.155342 -0.127301  0.237449  0.074115 -0.074115   \n",
       "Pclass1    -0.155342  1.000000 -0.288585 -0.626738  0.098013 -0.098013   \n",
       "Pclass2    -0.127301 -0.288585  1.000000 -0.565210  0.064746 -0.064746   \n",
       "Pclass3     0.237449 -0.626738 -0.565210  1.000000 -0.137143  0.137143   \n",
       "Sexf        0.074115  0.098013  0.064746 -0.137143  1.000000 -1.000000   \n",
       "Sexm       -0.074115 -0.098013 -0.064746  0.137143 -1.000000  1.000000   \n",
       "Survived    0.003650  0.285904  0.093349 -0.322308  0.543351 -0.543351   \n",
       "\n",
       "           Survived  \n",
       "Age        0.010539  \n",
       "SibSp     -0.035322  \n",
       "Parch      0.081629  \n",
       "Fare       0.257307  \n",
       "EmbarkedS -0.155660  \n",
       "EmbarkedC  0.168240  \n",
       "EmbarkedQ  0.003650  \n",
       "Pclass1    0.285904  \n",
       "Pclass2    0.093349  \n",
       "Pclass3   -0.322308  \n",
       "Sexf       0.543351  \n",
       "Sexm      -0.543351  \n",
       "Survived   1.000000  "
      ]
     },
     "execution_count": 107,
     "metadata": {},
     "output_type": "execute_result"
    }
   ],
   "source": [
    "df.corr()"
   ]
  },
  {
   "cell_type": "code",
   "execution_count": 108,
   "metadata": {},
   "outputs": [],
   "source": [
    "def logistic(row, para):\n",
    "    exponent = 0\n",
    "    for i, j in zip(para, row):\n",
    "        exponent += i*j\n",
    "    return 1/(1+np.exp(-exponent))"
   ]
  },
  {
   "cell_type": "code",
   "execution_count": 112,
   "metadata": {},
   "outputs": [],
   "source": [
    "def LR(X, Y, lr):\n",
    "    para = [-0.29337668, -0.30149844, -0.0455484 ,  0.14572016,\n",
    "       -3.16498884, -2.73268084, -3.03507468,  2.43291844,  1.77705346,\n",
    "        0.56724555, 1, 1, 1.15721329] # last one is w0\n",
    "    for j in range(100):\n",
    "        pre = np.zeros(len(X)) # set predicted results as 0s\n",
    "        X['w0'] = np.ones(len(X)) # add w0\n",
    "        last_para = para.copy()\n",
    "        print('iterate', j, end = ' ')\n",
    "        for i in range(len(X)):\n",
    "            pre[i] = logistic(X.iloc[i].values.tolist(), para)\n",
    "        gradient_descent = X.T.dot(pre - Y)\n",
    "        #print('pre', pre, 'Y', Y, pre - Y)\n",
    "        para = para - lr * gradient_descent\n",
    "        if j%10 == 0: # print the results every 10 times\n",
    "            print()\n",
    "            #print(para)\n",
    "            #print(errorD)\n",
    "            #print(sum(pre - Y))\n",
    "        if round(para[0], 6) == round(last_para[0],6) and round(para[1], 6) == round(last_para[1],6): # if the weights did not change, make it the final weights.\n",
    "            return para\n",
    "            break\n",
    "    return para"
   ]
  },
  {
   "cell_type": "code",
   "execution_count": 113,
   "metadata": {},
   "outputs": [],
   "source": [
    "def predict(query, para, threshold = 0.5):\n",
    "    pred = logistic(query, para)\n",
    "    #return pred\n",
    "    if pred > threshold or pred == threshold:\n",
    "        return 1\n",
    "    else:\n",
    "        return 0\n",
    "def acc(X, para, threshold):\n",
    "    #X = data_cleaning(X)\n",
    "    predicted = list(np.zeros(len(X))) \n",
    "    for i in range(len(X)):\n",
    "        predicted[i] = predict(X.iloc[i],para, threshold) \n",
    "    return predicted\n",
    "def acc_score(testY, para, threshold):\n",
    "    pre = acc(testX, para, threshold)\n",
    "    df0 = pd.DataFrame()\n",
    "    df0['Y'] = pd.Series(testY)\n",
    "    df0['predicted'] = pd.Series(pre)\n",
    "    sum_acc = 0\n",
    "    for i, j in zip(testY, pre):\n",
    "        if i == j:\n",
    "            sum_acc += 1\n",
    "    return sum_acc/len(testY)*100"
   ]
  },
  {
   "cell_type": "code",
   "execution_count": 114,
   "metadata": {},
   "outputs": [
    {
     "name": "stdout",
     "output_type": "stream",
     "text": [
      "iterate 0 \n",
      "iterate 1 iterate 2 iterate 3 iterate 4 iterate 5 iterate 6 iterate 7 iterate 8 iterate 9 iterate 10 \n",
      "iterate 11 iterate 12 iterate 13 iterate 14 iterate 15 iterate 16 iterate 17 iterate 18 iterate 19 iterate 20 \n",
      "iterate 21 iterate 22 iterate 23 iterate 24 iterate 25 iterate 26 iterate 27 iterate 28 iterate 29 iterate 30 \n",
      "iterate 31 iterate 32 iterate 33 iterate 34 iterate 35 iterate 36 iterate 37 iterate 38 iterate 39 iterate 40 \n",
      "iterate 41 iterate 42 iterate 43 iterate 44 iterate 45 iterate 46 iterate 47 iterate 48 iterate 49 iterate 50 \n",
      "iterate 51 iterate 52 iterate 53 iterate 54 iterate 55 iterate 56 iterate 57 iterate 58 iterate 59 iterate 60 \n",
      "iterate 61 iterate 62 iterate 63 iterate 64 iterate 65 iterate 66 iterate 67 iterate 68 iterate 69 iterate 70 \n",
      "iterate 71 iterate 72 iterate 73 iterate 74 iterate 75 iterate 76 iterate 77 iterate 78 iterate 79 iterate 80 \n",
      "iterate 81 iterate 82 iterate 83 iterate 84 iterate 85 iterate 86 iterate 87 iterate 88 iterate 89 iterate 90 \n",
      "iterate 91 iterate 92 iterate 93 iterate 94 iterate 95 iterate 96 iterate 97 iterate 98 iterate 99 "
     ]
    }
   ],
   "source": [
    "# Train the model\n",
    "X = df.iloc[:720, :-1]\n",
    "Y = df.iloc[:720, -1]\n",
    "para = LR(X,Y, 0.001)"
   ]
  },
  {
   "cell_type": "code",
   "execution_count": 115,
   "metadata": {},
   "outputs": [],
   "source": [
    "testX = df.iloc[720:, :-1]\n",
    "testY = df.iloc[720:, -1]"
   ]
  },
  {
   "cell_type": "code",
   "execution_count": 116,
   "metadata": {},
   "outputs": [
    {
     "data": {
      "text/plain": [
       "81.87134502923976"
      ]
     },
     "execution_count": 116,
     "metadata": {},
     "output_type": "execute_result"
    }
   ],
   "source": [
    "acc_score(testY, para, 0.5)"
   ]
  },
  {
   "cell_type": "code",
   "execution_count": 117,
   "metadata": {},
   "outputs": [],
   "source": [
    "# to find a better threshold\n",
    "listacc = list()\n",
    "indexdf = range(100)\n",
    "for i in indexdf:\n",
    "    listacc.append(acc_score(testY, para, i/100))"
   ]
  },
  {
   "cell_type": "code",
   "execution_count": 118,
   "metadata": {},
   "outputs": [
    {
     "data": {
      "text/plain": [
       "62"
      ]
     },
     "execution_count": 118,
     "metadata": {},
     "output_type": "execute_result"
    }
   ],
   "source": [
    "listacc.index(max(listacc))"
   ]
  },
  {
   "cell_type": "code",
   "execution_count": 119,
   "metadata": {},
   "outputs": [
    {
     "data": {
      "text/plain": [
       "Text(0.5, 1.0, 'Accuracy change with threshold')"
      ]
     },
     "execution_count": 119,
     "metadata": {},
     "output_type": "execute_result"
    },
    {
     "data": {
      "image/png": "[encoded data removed]",
      "text/plain": [
       "<Figure size 432x288 with 1 Axes>"
      ]
     },
     "metadata": {
      "needs_background": "light"
     },
     "output_type": "display_data"
    }
   ],
   "source": [
    "plt.plot(np.array(indexdf)/100, listacc)\n",
    "plt.xlabel('Threshold')\n",
    "plt.ylabel('Accuracy')\n",
    "plt.title('Accuracy change with threshold')"
   ]
  },
  {
   "cell_type": "code",
   "execution_count": 120,
   "metadata": {},
   "outputs": [
    {
     "name": "stdout",
     "output_type": "stream",
     "text": [
      "Index(['PassengerId', 'Pclass', 'Name', 'Sex', 'Age', 'SibSp', 'Parch',\n",
      "       'Ticket', 'Fare', 'Cabin', 'Embarked', 'EmbarkedS', 'EmbarkedC',\n",
      "       'EmbarkedQ', 'Pclass1', 'Pclass2', 'Pclass3', 'Sexf', 'Sexm'],\n",
      "      dtype='object')\n"
     ]
    },
    {
     "name": "stderr",
     "output_type": "stream",
     "text": [
      "C:\\Users\\Rui7803\\anaconda3\\lib\\site-packages\\ipykernel_launcher.py:23: SettingWithCopyWarning: \n",
      "A value is trying to be set on a copy of a slice from a DataFrame\n",
      "\n",
      "See the caveats in the documentation: https://pandas.pydata.org/pandas-docs/stable/user_guide/indexing.html#returning-a-view-versus-a-copy\n",
      "C:\\Users\\Rui7803\\anaconda3\\lib\\site-packages\\ipykernel_launcher.py:19: SettingWithCopyWarning: \n",
      "A value is trying to be set on a copy of a slice from a DataFrame\n",
      "\n",
      "See the caveats in the documentation: https://pandas.pydata.org/pandas-docs/stable/user_guide/indexing.html#returning-a-view-versus-a-copy\n",
      "C:\\Users\\Rui7803\\anaconda3\\lib\\site-packages\\ipykernel_launcher.py:21: SettingWithCopyWarning: \n",
      "A value is trying to be set on a copy of a slice from a DataFrame\n",
      "\n",
      "See the caveats in the documentation: https://pandas.pydata.org/pandas-docs/stable/user_guide/indexing.html#returning-a-view-versus-a-copy\n",
      "C:\\Users\\Rui7803\\anaconda3\\lib\\site-packages\\ipykernel_launcher.py:30: SettingWithCopyWarning: \n",
      "A value is trying to be set on a copy of a slice from a DataFrame\n",
      "\n",
      "See the caveats in the documentation: https://pandas.pydata.org/pandas-docs/stable/user_guide/indexing.html#returning-a-view-versus-a-copy\n",
      "C:\\Users\\Rui7803\\anaconda3\\lib\\site-packages\\ipykernel_launcher.py:28: SettingWithCopyWarning: \n",
      "A value is trying to be set on a copy of a slice from a DataFrame\n",
      "\n",
      "See the caveats in the documentation: https://pandas.pydata.org/pandas-docs/stable/user_guide/indexing.html#returning-a-view-versus-a-copy\n",
      "C:\\Users\\Rui7803\\anaconda3\\lib\\site-packages\\ipykernel_launcher.py:26: SettingWithCopyWarning: \n",
      "A value is trying to be set on a copy of a slice from a DataFrame\n",
      "\n",
      "See the caveats in the documentation: https://pandas.pydata.org/pandas-docs/stable/user_guide/indexing.html#returning-a-view-versus-a-copy\n",
      "C:\\Users\\Rui7803\\anaconda3\\lib\\site-packages\\ipykernel_launcher.py:35: SettingWithCopyWarning: \n",
      "A value is trying to be set on a copy of a slice from a DataFrame\n",
      "\n",
      "See the caveats in the documentation: https://pandas.pydata.org/pandas-docs/stable/user_guide/indexing.html#returning-a-view-versus-a-copy\n",
      "C:\\Users\\Rui7803\\anaconda3\\lib\\site-packages\\ipykernel_launcher.py:33: SettingWithCopyWarning: \n",
      "A value is trying to be set on a copy of a slice from a DataFrame\n",
      "\n",
      "See the caveats in the documentation: https://pandas.pydata.org/pandas-docs/stable/user_guide/indexing.html#returning-a-view-versus-a-copy\n"
     ]
    }
   ],
   "source": [
    "dftest = pd.read_csv('C:/MSDA/data245/Coding/data/test.csv')\n",
    "\n",
    "testX = data_cleaning(dftest)\n",
    "#testY = df.iloc[:, -1]\n",
    "pre = acc(testX, para, 0.5)"
   ]
  },
  {
   "cell_type": "code",
   "execution_count": 68,
   "metadata": {},
   "outputs": [
    {
     "data": {
      "text/html": [
       "<div>\n",
       "<style scoped>\n",
       "    .dataframe tbody tr th:only-of-type {\n",
       "        vertical-align: middle;\n",
       "    }\n",
       "\n",
       "    .dataframe tbody tr th {\n",
       "        vertical-align: top;\n",
       "    }\n",
       "\n",
       "    .dataframe thead th {\n",
       "        text-align: right;\n",
       "    }\n",
       "</style>\n",
       "<table border=\"1\" class=\"dataframe\">\n",
       "  <thead>\n",
       "    <tr style=\"text-align: right;\">\n",
       "      <th></th>\n",
       "      <th>PassengerId</th>\n",
       "      <th>Survived</th>\n",
       "    </tr>\n",
       "  </thead>\n",
       "  <tbody>\n",
       "    <tr>\n",
       "      <th>0</th>\n",
       "      <td>892</td>\n",
       "      <td>0</td>\n",
       "    </tr>\n",
       "    <tr>\n",
       "      <th>1</th>\n",
       "      <td>893</td>\n",
       "      <td>0</td>\n",
       "    </tr>\n",
       "    <tr>\n",
       "      <th>2</th>\n",
       "      <td>894</td>\n",
       "      <td>0</td>\n",
       "    </tr>\n",
       "    <tr>\n",
       "      <th>3</th>\n",
       "      <td>895</td>\n",
       "      <td>0</td>\n",
       "    </tr>\n",
       "    <tr>\n",
       "      <th>4</th>\n",
       "      <td>896</td>\n",
       "      <td>0</td>\n",
       "    </tr>\n",
       "    <tr>\n",
       "      <th>...</th>\n",
       "      <td>...</td>\n",
       "      <td>...</td>\n",
       "    </tr>\n",
       "    <tr>\n",
       "      <th>413</th>\n",
       "      <td>1305</td>\n",
       "      <td>0</td>\n",
       "    </tr>\n",
       "    <tr>\n",
       "      <th>414</th>\n",
       "      <td>1306</td>\n",
       "      <td>1</td>\n",
       "    </tr>\n",
       "    <tr>\n",
       "      <th>415</th>\n",
       "      <td>1307</td>\n",
       "      <td>0</td>\n",
       "    </tr>\n",
       "    <tr>\n",
       "      <th>416</th>\n",
       "      <td>1308</td>\n",
       "      <td>0</td>\n",
       "    </tr>\n",
       "    <tr>\n",
       "      <th>417</th>\n",
       "      <td>1309</td>\n",
       "      <td>0</td>\n",
       "    </tr>\n",
       "  </tbody>\n",
       "</table>\n",
       "<p>418 rows × 2 columns</p>\n",
       "</div>"
      ],
      "text/plain": [
       "     PassengerId  Survived\n",
       "0            892         0\n",
       "1            893         0\n",
       "2            894         0\n",
       "3            895         0\n",
       "4            896         0\n",
       "..           ...       ...\n",
       "413         1305         0\n",
       "414         1306         1\n",
       "415         1307         0\n",
       "416         1308         0\n",
       "417         1309         0\n",
       "\n",
       "[418 rows x 2 columns]"
      ]
     },
     "execution_count": 68,
     "metadata": {},
     "output_type": "execute_result"
    }
   ],
   "source": [
    "dftest['Survived'] = pd.Series(pre)\n",
    "dftest1 = pd.DataFrame()\n",
    "dftest1['PassengerId'] = pd.Series(range(892, 892 + len(dftest)))\n",
    "dftest1['Survived'] = dftest['Survived']\n",
    "dftest1.reset_index(drop=True, inplace=True)\n",
    "dftest1.to_csv('c:\\msda\\data245\\coding\\predicted.csv', index=False)\n",
    "dftest1"
   ]
  },
  {
   "cell_type": "code",
   "execution_count": 69,
   "metadata": {},
   "outputs": [
    {
     "data": {
      "text/plain": [
       "array([-0.29344311, -0.30145546, -0.04546701,  0.14560377, -1.66061839,\n",
       "       -3.2779874 , -3.57928877,  1.93587389,  1.27968201,  0.06975496,\n",
       "        1.61376341, -1.10567   , -0.3346933 ])"
      ]
     },
     "execution_count": 69,
     "metadata": {},
     "output_type": "execute_result"
    }
   ],
   "source": [
    "para.values"
   ]
  },
  {
   "cell_type": "code",
   "execution_count": null,
   "metadata": {},
   "outputs": [],
   "source": []
  }
 ],
 "metadata": {
  "kernelspec": {
   "display_name": "Python 3",
   "language": "python",
   "name": "python3"
  },
  "language_info": {
   "codemirror_mode": {
    "name": "ipython",
    "version": 3
   },
   "file_extension": ".py",
   "mimetype": "text/x-python",
   "name": "python",
   "nbconvert_exporter": "python",
   "pygments_lexer": "ipython3",
   "version": "3.7.6"
  }
 },
 "nbformat": 4,
 "nbformat_minor": 4
}
